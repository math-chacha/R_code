{
 "cells": [
  {
   "cell_type": "code",
   "execution_count": null,
   "metadata": {},
   "outputs": [],
   "source": [
    "# 참고\n",
    "# 나동빈, 『이것이 코딩 테스트다 with 파이썬』, 한빛미디어-2021.07.12, 86-102"
   ]
  },
  {
   "cell_type": "markdown",
   "metadata": {},
   "source": [
    "# 1. 그리디 알고리즘\n",
    "현재 상황에서 지금 당장 좋은 것만을 고르는 방법"
   ]
  },
  {
   "cell_type": "markdown",
   "metadata": {},
   "source": [
    "## 예제 3-1 거스름돈\n",
    "거스름돈 : 500원, 100원, 50원, 10원 무한히 존재  \n",
    "거슬러 줘야할 돈 : N원  \n",
    "거슬러 줘야할 동전의 최소 개수는?"
   ]
  },
  {
   "cell_type": "code",
   "execution_count": 10,
   "metadata": {},
   "outputs": [
    {
     "name": "stdout",
     "output_type": "stream",
     "text": [
      "거슬러 줘야할 돈을 입력해주세요 : 1260\n",
      "6\n"
     ]
    }
   ],
   "source": [
    "n = int(input(\"거슬러 줘야할 돈을 입력해주세요 : \"))\n",
    "coins = [500, 100, 50, 10]\n",
    "ans = 0\n",
    "for coin in coins :   # 화폐 종류 만큼 반복 수행 -> 시간복잡도 O(K) -> 금액보다는 화폐 종류에 따라 시간 결정\n",
    "    ans += n//coin\n",
    "    n = n % coin\n",
    "print(ans)"
   ]
  },
  {
   "cell_type": "markdown",
   "metadata": {},
   "source": [
    "#### 참고)\n",
    "큰 화폐 단위가 작은 화폐 단위의 배수인 위의 경우에는 큰 화폐 단위부터 탐욕적으로 탐색하는 것이 정당하나  \n",
    "그렇지 않은 경우에는 다른 방법으로 해결해야함(다이나믹 프로그래밍이나 그래프 알고리즘 등)  \n",
    "_※ 그렇지 않은 경우_  \n",
    "화폐 종류 : 500/400/100  \n",
    "거슬러 줘야할 돈 :  800  \n",
    "그리디 -> 500 + 100 * 3 -> 4개  \n",
    "정답 -> 400 * 2  -> 2개"
   ]
  },
  {
   "cell_type": "markdown",
   "metadata": {},
   "source": [
    "## 실전문제1. 큰 수의 법칙\n",
    "동빈이의 큰 수의 법칙은 다양한 수로 이루어진 배열이 있을 때 주어진 수들을 M번 더하여 가장 큰 수를 만드는 법칙이다.  \n",
    "단, 배열의 특정한 인덱스에 해당하는 수가 연속해서 K번 초과하여 더해질 수 없는 것이 이 법칙의 특징이다.  \n",
    "예를 들어, 순서대로 2,4,5,4,6으로 이루어진 배열이 있을 때 M이 8이고, K가 3이라고 가정하자. 이 경우 특정한 인덱스의 수가 연속해서 세 번까지만 더해질 수 있으므로  \n",
    "큰 수의 법칙에 따른 결과는 6 + 6 + 6 + 5 + 6 + 6 + 6 + 5인 46이 된다.  \n",
    "단, 서로 다른 인덱스에 해당하는 수가 같은 경우에도 서로 다른 것으로 간주한다. 예를 들어 순서대로 3,4,3,4,3으로 이루어진 배열이 있을 때 M이 7이고, K가 2라고 가정하자. 이 경우 두 번째 원소에 해당하는 4와 네 번째 원소에 해당하는 4를 번갈아 두 번씩 더하는 것이 가능하다.  \n",
    "결과적으로 4 + 4 + 4 + 4 + 4 + 4인 28이 도출된다.  \n",
    "  \n",
    "배열의 크기 N, 숫자가 더해지는 횟수 M, 그리고 K가 주어질 때 동빈이의 큰 수의 법칙에 따른 결과를 출력하시오.  \n",
    "<입력 예시>  \n",
    "5 8 3  \n",
    "2 4 5 4 6  \n",
    "<출력 예시>  \n",
    "46\n"
   ]
  },
  {
   "cell_type": "code",
   "execution_count": 19,
   "metadata": {},
   "outputs": [
    {
     "name": "stdout",
     "output_type": "stream",
     "text": [
      "5 8 3\n",
      "2 4 5 4 6\n",
      "출력 : 46\n"
     ]
    }
   ],
   "source": [
    "# n,m,k 받기\n",
    "n,m,k = map(int, input().split())\n",
    "\n",
    "# 두 번째 줄 데이터 받기\n",
    "data = list(map(int, input().split()))\n",
    "\n",
    "# 데이터 정렬\n",
    "data.sort()\n",
    "\n",
    "# 첫 번째 수와 두 번째 수 저장\n",
    "first = data[n-1]\n",
    "second = data[n-2]\n",
    "\n",
    "# 큰 수의 법칙 적용\n",
    "count = m//(k+1) * k # 가장 큰 수를 더하는 횟수로 반복횟수(k) + 두 번째 큰 수를 주기로 더하는 것을 생각해 계산\n",
    "rest = m - count # 두 번째 큰 수 더하는 횟수\n",
    "\n",
    "ans = first * count + second * rest\n",
    "print(f'출력 : {ans}')"
   ]
  },
  {
   "cell_type": "markdown",
   "metadata": {},
   "source": [
    "## 실전문제2. 숫자 카드 게임\n",
    "숫자 카드 게임은 여러 개의 숫자 카드 중에서 가장 높은 숫자가 쓰인 카드 한 장을 뽑는 게임이다. 단, 게임의 룰을 지키며 카드를 뽑아야 하고 룰은 다음과 같다.  \n",
    "1. 숫자가 쓰인 카드들이 N x M 형태로 놓여있다. 이 때 N은 행의 개수를 의미하며 M은 열의 개수를 의미한다.\n",
    "2. 먼저 뽑고자 하는 카드가 포함되어 있는 행을 선택한다.\n",
    "3. 그 다음 선택된 행에 포함된 카드들 중 가장 숫자가 낮은 카드를 뽑아야 한다.\n",
    "4. 따라서 처음에 카드를 골라낼 행을 선택할 때, 이 후에 해당 행에서 가장 숫자가 낮은 카드를 뽑을 것을 고려하여 최종적으로 가장 높은 숫자의 카드를 뽑을 수 있도록 전략을 세워야한다.\n",
    "\n",
    "example>  \n",
    "3 1 2  \n",
    "4 1 4  \n",
    "2 2 2  \n",
    "  \n",
    "여기서 카드를 골라낼 행을 고를 때 첫 번째 혹은 두 번째 행을 선택하는 경우, 최종적으로 뽑는 카드는 1이다. 하지만 세 번째 행을 선택하는 경우 최종적으로 뽑는 카드는 2이다. 따라서 이 예제에서는 세 번째 행을 선택하여 2가 쓰여진 카드를 뽑는 것이 정답이다.  \n",
    "  \n",
    "카드들이 N x M 형태로 놓여 있을 때, 게임의 룰에 맞게 카드를 뽑는 프로그램을 만드시오.  \n",
    "<입력 예시>  \n",
    "3 3  \n",
    "3 1 2  \n",
    "4 1 4  \n",
    "2 2 2  \n",
    "<출력 예시>  \n",
    "2"
   ]
  },
  {
   "cell_type": "code",
   "execution_count": 18,
   "metadata": {},
   "outputs": [
    {
     "name": "stdout",
     "output_type": "stream",
     "text": [
      "3 3\n",
      "3 1 2\n",
      "4 1 4\n",
      "2 2 2\n",
      "출력 : 2\n"
     ]
    }
   ],
   "source": [
    "# n,m 불러오기\n",
    "n,m = map(int, input().split())\n",
    "\n",
    "ans = 0\n",
    "\n",
    "# 행 별 최소값을 보면서 최대행 찾기\n",
    "for i in range(n) :\n",
    "    lst = list(map(int, input().split()))\n",
    "    if min(lst) > ans :\n",
    "        ans = min(lst)\n",
    "print(f'출력 : {ans}')"
   ]
  },
  {
   "cell_type": "markdown",
   "metadata": {},
   "source": [
    "## 실전문제3. 1이 될 때까지\n",
    "어떠한 수 N이 1이 될 때까지 다음의 두 과정 중 하나를 반복적으로 선택하여 수행하려고 한다. 단, 두 번째 연산은 N이 K로 나누어떨어질 때만 선택할 수 있다.  \n",
    "1. N에서 1을 뺀다.\n",
    "2. N을 K로 나눈다.\n",
    "예를 들어 N이 17, K가 4라고 가정하자. 이 때, 1번의 과정을 한 번 수행하면 N은 16이 된다. 이후에 2번의 과정을 두 번 수행하면 N은 1이 된다. 결과적으로 이 경우 전체 과정을 실행한 횟수는 3이 된다. 이는 N을 1로 만드는 최소 횟수이다.  \n",
    "  \n",
    "N과 K가 주어질 때 N이 1이 될 때까지 1번 혹은 2번의 과정을 수행해야하는최소 횟수를 구하는 프로그램을 작성하시오.  \n",
    "<입력 예시>  \n",
    "25 5  \n",
    "<출력 예시>  \n",
    "2"
   ]
  },
  {
   "cell_type": "code",
   "execution_count": 30,
   "metadata": {},
   "outputs": [
    {
     "name": "stdout",
     "output_type": "stream",
     "text": [
      "25 5\n",
      "출력 : 2\n"
     ]
    }
   ],
   "source": [
    "# n, k 입력받기\n",
    "n,k = map(int, input().split())\n",
    "\n",
    "# 나누기를 많이 해야 빨라짐!\n",
    "count = 0\n",
    "while True :\n",
    "    if n % k == 0 : # 나눌 수 있다면 나누기\n",
    "        n = n//k\n",
    "        count += 1\n",
    "    else :\n",
    "        sub_count = n % k # 나눌 수 없다면 나눠질 때까지 빼기\n",
    "        n = n - sub_count\n",
    "        count += sub_count\n",
    "        \n",
    "    if n < k : # 나눌 수 없을만큼 작아지면 멈추고 1이 될 때까지 빼기\n",
    "        break\n",
    "if n != 1 : # 1이 될 때까지 빼기\n",
    "    count += n-1\n",
    "print(f'출력 : {count}')"
   ]
  },
  {
   "cell_type": "code",
   "execution_count": null,
   "metadata": {},
   "outputs": [],
   "source": []
  },
  {
   "cell_type": "markdown",
   "metadata": {},
   "source": [
    "## 백준 연습문제\n",
    "그리디알고리즘 - 3개 문제  \n",
    "https://www.acmicpc.net/problemset?sort=ac_desc&algo=33"
   ]
  },
  {
   "cell_type": "markdown",
   "metadata": {},
   "source": [
    "### 2839. 설탕배달\n",
    "https://www.acmicpc.net/problem/2839  \n",
    "상근이는 요즘 설탕공장에서 설탕을 배달하고 있다. 상근이는 지금 사탕가게에 설탕을 정확하게 N킬로그램을 배달해야 한다. 설탕공장에서 만드는 설탕은 봉지에 담겨져 있다. 봉지는 3킬로그램 봉지와 5킬로그램 봉지가 있다.\n",
    "\n",
    "상근이는 귀찮기 때문에, 최대한 적은 봉지를 들고 가려고 한다. 예를 들어, 18킬로그램 설탕을 배달해야 할 때, 3킬로그램 봉지 6개를 가져가도 되지만, 5킬로그램 3개와 3킬로그램 1개를 배달하면, 더 적은 개수의 봉지를 배달할 수 있다.\n",
    "\n",
    "상근이가 설탕을 정확하게 N킬로그램 배달해야 할 때, 봉지 몇 개를 가져가면 되는지 그 수를 구하는 프로그램을 작성하시오.\n",
    "  \n",
    "<입력 예시>  \n",
    "첫째 줄에 N이 주어진다. (3 ≤ N ≤ 5000)  \n",
    "<출력 예시>  \n",
    "상근이가 배달하는 봉지의 최소 개수를 출력한다. 만약, 정확하게 N킬로그램을 만들 수 없다면 -1을 출력한다.  \n",
    "<입력 예시>  \n",
    "4  \n",
    "<출력 예시>  \n",
    "-1"
   ]
  },
  {
   "cell_type": "code",
   "execution_count": 35,
   "metadata": {},
   "outputs": [
    {
     "name": "stdout",
     "output_type": "stream",
     "text": [
      "4\n",
      "-1\n"
     ]
    }
   ],
   "source": [
    "# 5킬로그램 봉지가 많으면 많을 수록 좋으므로 n이 5의 배수가 될 때까지 3을 빼며 조절\n",
    "n =int(input())\n",
    "\n",
    "ans = 0\n",
    "while n >= 0 :\n",
    "    if n % 5 == 0 : # 배달 무게가 5로 나누어떨어지는 경우\n",
    "        ans += n//5\n",
    "        break\n",
    "    else :\n",
    "        n -= 3\n",
    "        ans += 1\n",
    "if n < 0 :\n",
    "    print(-1)\n",
    "else :\n",
    "    print(ans)"
   ]
  },
  {
   "cell_type": "markdown",
   "metadata": {},
   "source": [
    "### 11399. ATM\n",
    "https://www.acmicpc.net/problem/11399  \n",
    "인하은행에는 ATM이 1대밖에 없다. 지금 이 ATM앞에 N명의 사람들이 줄을 서있다. 사람은 1번부터 N번까지 번호가 매겨져 있으며, i번 사람이 돈을 인출하는데 걸리는 시간은 Pi분이다.\n",
    "\n",
    "사람들이 줄을 서는 순서에 따라서, 돈을 인출하는데 필요한 시간의 합이 달라지게 된다. 예를 들어, 총 5명이 있고, P1 = 3, P2 = 1, P3 = 4, P4 = 3, P5 = 2 인 경우를 생각해보자. [1, 2, 3, 4, 5] 순서로 줄을 선다면, 1번 사람은 3분만에 돈을 뽑을 수 있다. 2번 사람은 1번 사람이 돈을 뽑을 때 까지 기다려야 하기 때문에, 3+1 = 4분이 걸리게 된다. 3번 사람은 1번, 2번 사람이 돈을 뽑을 때까지 기다려야 하기 때문에, 총 3+1+4 = 8분이 필요하게 된다. 4번 사람은 3+1+4+3 = 11분, 5번 사람은 3+1+4+3+2 = 13분이 걸리게 된다. 이 경우에 각 사람이 돈을 인출하는데 필요한 시간의 합은 3+4+8+11+13 = 39분이 된다.\n",
    "\n",
    "줄을 [2, 5, 1, 4, 3] 순서로 줄을 서면, 2번 사람은 1분만에, 5번 사람은 1+2 = 3분, 1번 사람은 1+2+3 = 6분, 4번 사람은 1+2+3+3 = 9분, 3번 사람은 1+2+3+3+4 = 13분이 걸리게 된다. 각 사람이 돈을 인출하는데 필요한 시간의 합은 1+3+6+9+13 = 32분이다. 이 방법보다 더 필요한 시간의 합을 최소로 만들 수는 없다.\n",
    "\n",
    "줄을 서 있는 사람의 수 N과 각 사람이 돈을 인출하는데 걸리는 시간 Pi가 주어졌을 때, 각 사람이 돈을 인출하는데 필요한 시간의 합의 최솟값을 구하는 프로그램을 작성하시오.\n",
    "  \n",
    "<입력 예시>  \n",
    "첫째 줄에 사람의 수 N(1 ≤ N ≤ 1,000)이 주어진다. 둘째 줄에는 각 사람이 돈을 인출하는데 걸리는 시간 Pi가 주어진다. (1 ≤ Pi ≤ 1,000)\n",
    "<출력 예시>  \n",
    "첫째 줄에 각 사람이 돈을 인출하는데 필요한 시간의 합의 최솟값을 출력한다.\n",
    "<입력 예시>  \n",
    "5  \n",
    "3 1 4 3 2  \n",
    "<출력 예시>  \n",
    "32"
   ]
  },
  {
   "cell_type": "code",
   "execution_count": 45,
   "metadata": {},
   "outputs": [
    {
     "name": "stdout",
     "output_type": "stream",
     "text": [
      "5\n",
      "3 1 4 3 2\n",
      "32\n"
     ]
    }
   ],
   "source": [
    "n = int(input())\n",
    "lst = list(map(int, input().split()))\n",
    "lst.sort()\n",
    "ans = 0\n",
    "for i in range(n) : # 최소 시간 걸리는 사람 순으로 줄을 서면 됨!!\n",
    "    ans += (n-i) * lst[i]\n",
    "print(ans)"
   ]
  },
  {
   "cell_type": "markdown",
   "metadata": {},
   "source": [
    "### 11047. 동전 0\n",
    "https://www.acmicpc.net/problem/11047  \n",
    "준규가 가지고 있는 동전은 총 N종류이고, 각각의 동전을 매우 많이 가지고 있다.\n",
    "\n",
    "동전을 적절히 사용해서 그 가치의 합을 K로 만들려고 한다. 이때 필요한 동전 개수의 최솟값을 구하는 프로그램을 작성하시오.\n",
    "  \n",
    "<입력 예시>  \n",
    "첫째 줄에 N과 K가 주어진다. (1 ≤ N ≤ 10, 1 ≤ K ≤ 100,000,000)\n",
    "\n",
    "둘째 줄부터 N개의 줄에 동전의 가치 Ai가 오름차순으로 주어진다. (1 ≤ Ai ≤ 1,000,000, A1 = 1, i ≥ 2인 경우에 Ai는 Ai-1의 배수)  \n",
    "<출력 예시>  \n",
    "첫째 줄에 K원을 만드는데 필요한 동전 개수의 최솟값을 출력한다.  \n",
    "<입력 예시>  \n",
    "10 4200  \n",
    "1  \n",
    "5  \n",
    "10  \n",
    "50  \n",
    "100  \n",
    "500  \n",
    "1000  \n",
    "5000  \n",
    "10000  \n",
    "50000  \n",
    "<출력 예시>  \n",
    "6"
   ]
  },
  {
   "cell_type": "code",
   "execution_count": 46,
   "metadata": {},
   "outputs": [
    {
     "name": "stdout",
     "output_type": "stream",
     "text": [
      "10 4200\n",
      "1\n",
      "5\n",
      "10\n",
      "50\n",
      "100\n",
      "500\n",
      "1000\n",
      "5000\n",
      "10000\n",
      "50000\n",
      "6\n"
     ]
    }
   ],
   "source": [
    "# 큰 동전은 다른 동전의 배수이므로 그리디 알고리즘 적용\n",
    "n,k = map(int, input().split())\n",
    "coins = []\n",
    "ans = 0\n",
    "for i in range(n): # 동전 종류 입력\n",
    "    coins.append(int(input()))\n",
    "for j in range(n) : # 큰 동전부터 차례로 진행\n",
    "    if k >= coins[n-1-j] :\n",
    "        ans += k // coins[n-1-j]\n",
    "        k = k % coins[n-1-j]\n",
    "    if k == 0 :\n",
    "        break\n",
    "print(ans)"
   ]
  },
  {
   "cell_type": "markdown",
   "metadata": {},
   "source": [
    "## 프로그래머스_코딩테스트 연습 - 탐욕법(Greedy)\n",
    "https://school.programmers.co.kr/learn/courses/30/parts/12244"
   ]
  },
  {
   "cell_type": "markdown",
   "metadata": {},
   "source": [
    "### 1. 체육복 - Lv1\n",
    "점심시간에 도둑이 들어, 일부 학생이 체육복을 도난당했습니다. 다행히 여벌 체육복이 있는 학생이 이들에게 체육복을 빌려주려 합니다. 학생들의 번호는 체격 순으로 매겨져 있어, 바로 앞번호의 학생이나 바로 뒷번호의 학생에게만 체육복을 빌려줄 수 있습니다. 예를 들어, 4번 학생은 3번 학생이나 5번 학생에게만 체육복을 빌려줄 수 있습니다. 체육복이 없으면 수업을 들을 수 없기 때문에 체육복을 적절히 빌려 최대한 많은 학생이 체육수업을 들어야 합니다.\n",
    "\n",
    "전체 학생의 수 n, 체육복을 도난당한 학생들의 번호가 담긴 배열 lost, 여벌의 체육복을 가져온 학생들의 번호가 담긴 배열 reserve가 매개변수로 주어질 때, 체육수업을 들을 수 있는 학생의 최댓값을 return 하도록 solution 함수를 작성해주세요.\n",
    "\n",
    "\n",
    "<제한 사항>  \n",
    "전체 학생의 수는 2명 이상 30명 이하입니다.  \n",
    "체육복을 도난당한 학생의 수는 1명 이상 n명 이하이고 중복되는 번호는 없습니다.  \n",
    "여벌의 체육복을 가져온 학생의 수는 1명 이상 n명 이하이고 중복되는 번호는 없습니다.  \n",
    "여벌 체육복이 있는 학생만 다른 학생에게 체육복을 빌려줄 수 있습니다.  \n",
    "여벌 체육복을 가져온 학생이 체육복을 도난당했을 수 있습니다. 이때 이 학생은 체육복을 하나만 도난당했다고 가정하며, 남은 체육복이 하나이기에 다른 학생에게는 체육복을 빌려줄 수 없습니다.   \n",
    "  \n",
    "<입력 예시>  \n",
    "5 : n  \n",
    "[2,4] : lost  \n",
    "[1,3,5] : reserve  \n",
    "    \n",
    "<출력 예시>  \n",
    "5\n",
    "  \n",
    "<입력 예시>  \n",
    "5 : n  \n",
    "[2,4] : lost  \n",
    "[3] : reserve  \n",
    "    \n",
    "<출력 예시>  \n",
    "4\n",
    "  \n",
    "<입력 예시>  \n",
    "3 : n  \n",
    "[3] : lost  \n",
    "[1] : reserve  \n",
    "    \n",
    "<출력 예시>  \n",
    "2\n",
    "  \n",
    "<입출력 예 설명>  \n",
    "예제 #1  \n",
    "1번 학생이 2번 학생에게 체육복을 빌려주고, 3번 학생이나 5번 학생이 4번 학생에게 체육복을 빌려주면 학생 5명이 체육수업을 들을 수 있습니다.\n",
    "  \n",
    "예제 #2  \n",
    "3번 학생이 2번 학생이나 4번 학생에게 체육복을 빌려주면 학생 4명이 체육수업을 들을 수 있습니다."
   ]
  },
  {
   "cell_type": "code",
   "execution_count": 2,
   "metadata": {},
   "outputs": [
    {
     "data": {
      "text/plain": [
       "5"
      ]
     },
     "execution_count": 2,
     "metadata": {},
     "output_type": "execute_result"
    }
   ],
   "source": [
    "n = 5\n",
    "lost = [2,4]\n",
    "reserve = [1,3,5]\n",
    "def solution(n, lost, reserve):\n",
    "    class_num=[i for i in range(1,n+1)]\n",
    "    lost_set= list(set(lost)-set(reserve))\n",
    "    reserve_set=list(set(reserve)-set(lost))\n",
    "    for i in lost_set:\n",
    "        if i+1 not in reserve_set and i-1 not in reserve_set:\n",
    "            class_num.remove(i)\n",
    "        elif i-1 in reserve_set:\n",
    "            reserve_set.remove(i-1)\n",
    "        elif i+1 in reserve_set:\n",
    "            reserve_set.remove(i+1)\n",
    "    return len(class_num)\n",
    "solution(n, lost, reserve)"
   ]
  },
  {
   "cell_type": "markdown",
   "metadata": {},
   "source": [
    "### 2. 조이스틱 - Lv2\n",
    "조이스틱으로 알파벳 이름을 완성하세요. 맨 처음엔 A로만 이루어져 있습니다.\n",
    "ex) 완성해야 하는 이름이 세 글자면 AAA, 네 글자면 AAAA\n",
    "\n",
    "조이스틱을 각 방향으로 움직이면 아래와 같습니다.  \n",
    "\n",
    "▲ - 다음 알파벳  \n",
    "▼ - 이전 알파벳 (A에서 아래쪽으로 이동하면 Z로)  \n",
    "◀ - 커서를 왼쪽으로 이동 (첫 번째 위치에서 왼쪽으로 이동하면 마지막 문자에 커서)  \n",
    "▶ - 커서를 오른쪽으로 이동 (마지막 위치에서 오른쪽으로 이동하면 첫 번째 문자에 커서)  \n",
    "\n",
    "예를 들어 아래의 방법으로 \"JAZ\"를 만들 수 있습니다.  \n",
    "- 첫 번째 위치에서 조이스틱을 위로 9번 조작하여 J를 완성합니다.  \n",
    "- 조이스틱을 왼쪽으로 1번 조작하여 커서를 마지막 문자 위치로 이동시킵니다.  \n",
    "- 마지막 위치에서 조이스틱을 아래로 1번 조작하여 Z를 완성합니다.  \n",
    "따라서 11번 이동시켜 \"JAZ\"를 만들 수 있고, 이때가 최소 이동입니다.  \n",
    "\n",
    "만들고자 하는 이름 name이 매개변수로 주어질 때, 이름에 대해 조이스틱 조작 횟수의 최솟값을 return 하도록 solution 함수를 만드세요.  \n",
    "  \n",
    "<제한 사항>  \n",
    "name은 알파벳 대문자로만 이루어져 있습니다.  \n",
    "name의 길이는 1 이상 20 이하입니다.  \n",
    "  \n",
    "<입력 예시>  \n",
    "\"JEROEN\" : name\n",
    "    \n",
    "<출력 예시>  \n",
    "56  \n",
    "  \n",
    "<입력 예시>  \n",
    "\"JAN\"  : name\n",
    "    \n",
    "<출력 예시>  \n",
    "23  "
   ]
  },
  {
   "cell_type": "code",
   "execution_count": 17,
   "metadata": {},
   "outputs": [
    {
     "data": {
      "text/plain": [
       "23"
      ]
     },
     "execution_count": 17,
     "metadata": {},
     "output_type": "execute_result"
    }
   ],
   "source": [
    "name = 'JAN'\n",
    "def solution(name) :\n",
    "    answer = 0\n",
    "    move = len(name) - 1\n",
    "    \n",
    "    while name[move] == 'A' and move > 0 : # 끝이 A인 경우 갈 필요가 없음 이동횟수에서 빼버리기\n",
    "        move -= 1 \n",
    "        \n",
    "    if move < 0 : # 전부 A라면 0반환\n",
    "        return answer \n",
    "    \n",
    "    for i, char in enumerate(name) : # 글자 확인하며 연속되는 A 기준으로 좌우 어디가 빠른지 체크\n",
    "        \n",
    "        answer += min(ord(char) - ord('A'), ord('Z') - ord(char) + 1) # 알파벳 위/아래 중 빠르게 바꿀 수 있는 것\n",
    "        \n",
    "        next_index = i + 1\n",
    "        while next_index < len(name) and name[next_index] == 'A' : # 연속되는 1체크\n",
    "            next_index += 1\n",
    "        \n",
    "        # 1.오른쪽이동 / 2.연속된 A보고 왼쪽으로 가는 경우 / 3.연속된 A보고 오른쪽으로 가는 경우\n",
    "        # 2,3번이 있는 이유는 연속A가 가장 많은 문자열을 뛰어넘는 것이 이득이기에 A가 있더라도 오른쪽으로 가는 경우와 A보고 왼쪽으로 돌아가는 경우를 비교해 최소 move 체크\n",
    "        move = min(move, 2*i + len(name) - next_index, i + 2 * (len(name) -next_index)) # 최소 이동횟수 찾기\n",
    "\n",
    "    answer += move\n",
    "    return answer\n",
    "solution(name)"
   ]
  },
  {
   "cell_type": "markdown",
   "metadata": {},
   "source": [
    "### 3. 큰 수 만들기 - Lv2\n",
    "어떤 숫자에서 k개의 수를 제거했을 때 얻을 수 있는 가장 큰 숫자를 구하려 합니다.\n",
    "\n",
    "예를 들어, 숫자 1924에서 수 두 개를 제거하면 [19, 12, 14, 92, 94, 24] 를 만들 수 있습니다. 이 중 가장 큰 숫자는 94 입니다.\n",
    "\n",
    "문자열 형식으로 숫자 number와 제거할 수의 개수 k가 solution 함수의 매개변수로 주어집니다. number에서 k 개의 수를 제거했을 때 만들 수 있는 수 중 가장 큰 숫자를 문자열 형태로 return 하도록 solution 함수를 완성하세요.  \n",
    "\n",
    "  \n",
    "<제한 사항>  \n",
    "number는 2자리 이상, 1,000,000자리 이하인 숫자입니다.  \n",
    "k는 1 이상 number의 자릿수 미만인 자연수입니다.  \n",
    "  \n",
    "<입력 예시>  \n",
    "\"1924\" : number\n",
    "2 : k  \n",
    "\n",
    "<출력 예시>  \n",
    "\"94\"    \n",
    "  \n",
    "<입력 예시>  \n",
    "\"1231234\" : number\n",
    "3 : k  \n",
    "\n",
    "<출력 예시>  \n",
    "\"3234\" \n",
    "  \n",
    "<입력 예시>  \n",
    "\"4177252841\" : number\n",
    "4 : k  \n",
    "\n",
    "<출력 예시>  \n",
    "\"775841\" "
   ]
  },
  {
   "cell_type": "code",
   "execution_count": 36,
   "metadata": {},
   "outputs": [
    {
     "data": {
      "text/plain": [
       "'3234'"
      ]
     },
     "execution_count": 36,
     "metadata": {},
     "output_type": "execute_result"
    }
   ],
   "source": [
    "# 4/12 통과! 나머지 시간초과,,\n",
    "from itertools import combinations\n",
    "def solution(number, k):\n",
    "    num_lst = [num for num in number]\n",
    "    idx = [i for i in range(len(number))]\n",
    "    num_combi = []\n",
    "    for remove_idxs in [x for x in combinations(idx, k)] :\n",
    "        tmp_num_combi = \"\"\n",
    "        for i, num in enumerate(num_lst) :\n",
    "            if i not in remove_idxs :\n",
    "                tmp_num_combi += num\n",
    "        num_combi.append(int(tmp_num_combi))    \n",
    "    \n",
    "    return str(max(num_combi))\n",
    "\n",
    "solution(\"1231234\", 3)"
   ]
  },
  {
   "cell_type": "code",
   "execution_count": 43,
   "metadata": {},
   "outputs": [
    {
     "data": {
      "text/plain": [
       "'3234'"
      ]
     },
     "execution_count": 43,
     "metadata": {},
     "output_type": "execute_result"
    }
   ],
   "source": [
    "# 스택을 활용한 풀이\n",
    "# 1.스택 생성\n",
    "# 2. number 순회하며 다음 조건 만족하면 반복\n",
    "# - k > 0 \n",
    "# - 스택이 비어있지 않고\n",
    "# - 스택 마지막 값 < num\n",
    "#     -> 스택 pop\n",
    "#     -> k -= 1\n",
    "# - 스택에 num 넣기\n",
    "# 3. k >0이면 스택에서 k개 삭제 후 join(뒤에서 k개) \n",
    "#     -> 이미 앞이 최대자리수임\n",
    "\n",
    "\n",
    "def solution(number, k) :\n",
    "    answer  = []\n",
    "    \n",
    "    for num in number :\n",
    "        if not answer : # answer가 비어있다면 추가 \n",
    "            answer.append(num)\n",
    "            continue\n",
    "        \n",
    "        if k> 0 :\n",
    "            while answer[-1] < num : # 가장 마지막에 추가된 값이 현재 숫자보다 작다면 없애기\n",
    "                answer.pop()\n",
    "                k -= 1 # 뺄 숫자가 줄어듬\n",
    "                if not answer or k <= 0 : # answer가 비어있거나 k 가 0이하이면 그만\n",
    "                    break\n",
    "                    \n",
    "        answer.append(num)\n",
    "        \n",
    "    answer = answer[:-k] if k > 0 else answer\n",
    "    return ''.join(answer)\n",
    "\n",
    "solution(\"1231234\", 3)"
   ]
  },
  {
   "cell_type": "markdown",
   "metadata": {},
   "source": [
    "### 4. 구명보트 - Lv2\n",
    "무인도에 갇힌 사람들을 구명보트를 이용하여 구출하려고 합니다. 구명보트는 작아서 한 번에 최대 2명씩 밖에 탈 수 없고, 무게 제한도 있습니다.\n",
    "\n",
    "예를 들어, 사람들의 몸무게가 [70kg, 50kg, 80kg, 50kg]이고 구명보트의 무게 제한이 100kg이라면 2번째 사람과 4번째 사람은 같이 탈 수 있지만 1번째 사람과 3번째 사람의 무게의 합은 150kg이므로 구명보트의 무게 제한을 초과하여 같이 탈 수 없습니다.\n",
    "\n",
    "구명보트를 최대한 적게 사용하여 모든 사람을 구출하려고 합니다.\n",
    "\n",
    "사람들의 몸무게를 담은 배열 people과 구명보트의 무게 제한 limit가 매개변수로 주어질 때, 모든 사람을 구출하기 위해 필요한 구명보트 개수의 최솟값을 return 하도록 solution 함수를 작성해주세요.\n",
    "\n",
    "  \n",
    "<제한 사항>  \n",
    "무인도에 갇힌 사람은 1명 이상 50,000명 이하입니다.  \n",
    "각 사람의 몸무게는 40kg 이상 240kg 이하입니다.  \n",
    "구명보트의 무게 제한은 40kg 이상 240kg 이하입니다.  \n",
    "구명보트의 무게 제한은 항상 사람들의 몸무게 중 최댓값보다 크게 주어지므로 사람들을 구출할 수 없는 경우는 없습니다.  \n",
    "  \n",
    "<입력 예시>  \n",
    "[70, 50, 80, 50] : people\n",
    "100 : limit  \n",
    "\n",
    "<출력 예시>  \n",
    "3     \n",
    "  \n",
    "<입력 예시>  \n",
    "[70, 80, 50] : people\n",
    "100 : limit  \n",
    "\n",
    "<출력 예시>  \n",
    "3   "
   ]
  },
  {
   "cell_type": "code",
   "execution_count": 46,
   "metadata": {},
   "outputs": [
    {
     "data": {
      "text/plain": [
       "3"
      ]
     },
     "execution_count": 46,
     "metadata": {},
     "output_type": "execute_result"
    }
   ],
   "source": [
    "people = [70,50,80,50]\n",
    "limit = 100\n",
    "def solution(people, limit) :\n",
    "    people.sort() # 크기 순 정렬\n",
    "    answer = 0 # 구명보트 개수\n",
    "    i = 0 # 제일 가벼운 사람부터\n",
    "    j = len(people) - 1 # 제일 무거운 사람부터\n",
    "    while i <= j : \n",
    "        answer += 1 \n",
    "        if people[i] + people[j] <= limit : # 제일 가벼운 사람과 무거운 사람의 무게가 limit보다 작다면 한 번에 태우기\n",
    "            i += 1\n",
    "        j -= 1 # 그 외에는 무게 무거운 사람부터 보내기\n",
    "    return answer\n",
    "\n",
    "solution(people, limit)"
   ]
  },
  {
   "cell_type": "code",
   "execution_count": null,
   "metadata": {},
   "outputs": [],
   "source": []
  },
  {
   "cell_type": "markdown",
   "metadata": {},
   "source": [
    "### 5. 섬 연결하기 - Lv3\n",
    "n개의 섬 사이에 다리를 건설하는 비용(costs)이 주어질 때, 최소의 비용으로 모든 섬이 서로 통행 가능하도록 만들 때 필요한 최소 비용을 return 하도록 solution을 완성하세요.\n",
    "\n",
    "다리를 여러 번 건너더라도, 도달할 수만 있으면 통행 가능하다고 봅니다. 예를 들어 A 섬과 B 섬 사이에 다리가 있고, B 섬과 C 섬 사이에 다리가 있으면 A 섬과 C 섬은 서로 통행 가능합니다.  \n",
    "\n",
    "\n",
    "  \n",
    "<제한 사항>  \n",
    "섬의 개수 n은 1 이상 100 이하입니다.  \n",
    "costs의 길이는 ((n-1) * n) / 2이하입니다.  \n",
    "임의의 i에 대해, costs[i][0] 와 costs[i] [1]에는 다리가 연결되는 두 섬의 번호가 들어있고, costs[i] [2]에는 이 두 섬을 연결하는 다리를 건설할 때 드는 비용입니다.  \n",
    "같은 연결은 두 번 주어지지 않습니다. 또한 순서가 바뀌더라도 같은 연결로 봅니다. 즉 0과 1 사이를 연결하는 비용이 주어졌을 때, 1과 0의 비용이 주어지지 않습니다.  \n",
    "모든 섬 사이의 다리 건설 비용이 주어지지 않습니다. 이 경우, 두 섬 사이의 건설이 불가능한 것으로 봅니다.  \n",
    "연결할 수 없는 섬은 주어지지 않습니다.    \n",
    "<입력 예시>  \n",
    "4 : n  \n",
    "[[0,1,1],[0,2,2],[1,2,5],[1,3,1],[2,3,8]] : costs  \n",
    "\n",
    "<출력 예시>  \n",
    "4     \n",
    "\n",
    "![programmers_greedy_no5_1](./programmers_greedy_no5_1.png)"
   ]
  },
  {
   "cell_type": "markdown",
   "metadata": {},
   "source": [
    "### <참고> Kruskal 알고리즘\n",
    "https://gmlwjd9405.github.io/2018/08/29/algorithm-kruskal-mst.html  \n",
    "  \n",
    "<정의>  \n",
    "탐욕적인 방법(greedy method) 을 이용하여 네트워크(가중치를 간선에 할당한 그래프)의 모든 정점을 최소 비용으로 연결하는 최적 해답을 구하는 것  \n",
    "  \n",
    "<알고리즘 동작>  \n",
    "1. 그래프의 간선들을 가중치의 오름차순으로 정렬한다.  \n",
    "2. 정렬된 간선 리스트에서 순서대로 사이클을 형성하지 않는 간선을 선택한다.  \n",
    "    - 즉, 가장 낮은 가중치를 먼저 선택한다.  \n",
    "    - 사이클을 형성하는 간선을 제외한다.  \n",
    "3. 해당 간선을 현재의 MST(최소 비용 신장 트리)의 집합에 추가한다.  \n",
    "  \n",
    "<알고리즘 구체적 동작>  \n",
    "![programmers_greedy_no5_2](./programmers_greedy_no5_2.png)  \n",
    "\n",
    "<주의>  \n",
    "1. 다음 간선을 이미 선택된 간선들의 집합에 추가할 때 사이클을 생성하는지를 체크!  \n",
    "    - 새로운 간선이 이미 다른 경로에 의해 연결되어 있는 정점들을 연결할 때 사이클이 형성된다.\n",
    "    - 즉, 추가할 새로운 간선의 양끝 정점이 같은 집합에 속해 있으면 사이클이 형성된다.\n",
    "2. 사이클 생성 여부를 확인하는 방법\n",
    "    - 추가하고자 하는 간선의 양끝 정점이 같은 집합에 속해 있는지를 먼저 검사해야 한다.\n",
    "    - 'union-find 알고리즘’ 이용"
   ]
  },
  {
   "cell_type": "code",
   "execution_count": 54,
   "metadata": {},
   "outputs": [
    {
     "data": {
      "text/plain": [
       "4"
      ]
     },
     "execution_count": 54,
     "metadata": {},
     "output_type": "execute_result"
    }
   ],
   "source": [
    "n = 4\n",
    "costs = [[0,1,1],[0,2,2],[1,2,5],[1,3,1],[2,3,8]]\n",
    "\n",
    "def solution(n, costs) :\n",
    "    answer = 0 \n",
    "    costs.sort(key = lambda x : x[2]) # 비용을 기준으로 연결정보 정렬\n",
    "    \n",
    "    routes = set([costs[0][0]]) # 선택된 섬을 넣는 집합\n",
    "    \n",
    "    while len(routes) != n : # 모든 섬을 지나갈 때까지\n",
    "        for i, cost in enumerate(costs) : \n",
    "            if cost[0] in routes and cost[1] in routes : # 만약 연결정보의 두 섬이 이미 routes에 포함되어있다면\n",
    "                continue # 넘어가기\n",
    "            if cost[0] in routes or cost[1] in routes : # 만약 연결정보의 두 섬 중 하나만 지나갔다면\n",
    "                routes.update([cost[0], cost[1]]) # routes에 두 섬 번호 추가\n",
    "                answer += cost[2]\n",
    "                costs[i] = [-1,-1,-1] # 사용한 연결정보 제거\n",
    "                break\n",
    "    return answer\n",
    "solution(n, costs)"
   ]
  },
  {
   "cell_type": "markdown",
   "metadata": {},
   "source": [
    "### 6. 단속카메라 - Lv3\n",
    "고속도로를 이동하는 모든 차량이 고속도로를 이용하면서 단속용 카메라를 한 번은 만나도록 카메라를 설치하려고 합니다.\n",
    "\n",
    "고속도로를 이동하는 차량의 경로 routes가 매개변수로 주어질 때, 모든 차량이 한 번은 단속용 카메라를 만나도록 하려면 최소 몇 대의 카메라를 설치해야 하는지를 return 하도록 solution 함수를 완성하세요.  \n",
    "\n",
    "\n",
    "  \n",
    "<제한 사항>  \n",
    "차량의 대수는 1대 이상 10,000대 이하입니다.  \n",
    "routes에는 차량의 이동 경로가 포함되어 있으며 routes[i][0]에는 i번째 차량이 고속도로에 진입한 지점, routes[i][1]에는 i번째 차량이 고속도로에서 나간 지점이 적혀 있습니다.  \n",
    "차량의 진입/진출 지점에 카메라가 설치되어 있어도 카메라를 만난것으로 간주합니다.  \n",
    "차량의 진입 지점, 진출 지점은 -30,000 이상 30,000 이하입니다.   \n",
    "  \n",
    "<입력 예시>  \n",
    "[[-20,-15], [-14,-5], [-18,-13], [-5,-3]] : routes  \n",
    "\n",
    "<출력 예시>  \n",
    "2     \n",
    "  \n",
    "<입출력 예 설명>  \n",
    "-5 지점에 카메라를 설치하면 두 번째, 네 번째 차량이 카메라를 만납니다.  \n",
    "\n",
    "-15 지점에 카메라를 설치하면 첫 번째, 세 번째 차량이 카메라를 만납니다.  "
   ]
  },
  {
   "cell_type": "code",
   "execution_count": 64,
   "metadata": {},
   "outputs": [
    {
     "data": {
      "text/plain": [
       "2"
      ]
     },
     "execution_count": 64,
     "metadata": {},
     "output_type": "execute_result"
    }
   ],
   "source": [
    "routes = [[-20,-15], [-14,-5], [-18,-13], [-5,-3]] \n",
    "\n",
    "def solution(routes) :\n",
    "    routes.sort(key = lambda x : x[1]) # 나간지점 기준 오름차순 정렬\n",
    "    \n",
    "    camera = -30001 # 진출 지점 최소값 - 1\n",
    "    answer = 0 # 카메라 대수\n",
    "    \n",
    "    for route in routes :\n",
    "        if camera < route[0] : # 카메라 위치가 해당 차의 진입지점보다 앞에 있다면 \n",
    "            answer += 1 # 카메라를 해당 차의 나가는지점에 설치\n",
    "            camera = route[1] # 제일 앞에 있는 카메라로 위치 변경\n",
    "    return answer\n",
    "\n",
    "solution(routes)"
   ]
  },
  {
   "cell_type": "code",
   "execution_count": null,
   "metadata": {},
   "outputs": [],
   "source": []
  }
 ],
 "metadata": {
  "kernelspec": {
   "display_name": "Python 3",
   "language": "python",
   "name": "python3"
  },
  "language_info": {
   "codemirror_mode": {
    "name": "ipython",
    "version": 3
   },
   "file_extension": ".py",
   "mimetype": "text/x-python",
   "name": "python",
   "nbconvert_exporter": "python",
   "pygments_lexer": "ipython3",
   "version": "3.7.3"
  }
 },
 "nbformat": 4,
 "nbformat_minor": 2
}
