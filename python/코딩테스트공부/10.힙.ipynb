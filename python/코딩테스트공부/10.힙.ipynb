{
 "cells": [
  {
   "cell_type": "code",
   "execution_count": 2,
   "metadata": {},
   "outputs": [],
   "source": [
    "# 참고\n",
    "# https://velog.io/@click/%EC%BD%94%EB%94%A9%ED%85%8C%EC%8A%A4%ED%8A%B8%ED%9E%99"
   ]
  },
  {
   "cell_type": "markdown",
   "metadata": {},
   "source": [
    "# 10.힙(Heap)\n",
    "자료구조 힙이란?  \n",
    "- 완전 이진 트리로 우선순위 큐를 위해 만들어진 자료구조  \n",
    "- 여러개의 값들 중 최대값이나 최소값을 빠르게 찾아낼 수 있게 만들어짐  \n",
    "- 힙은 일종의 반정렬 상태 유지  \n",
    "- 힙 트리에서는 중복값 허용  \n",
    "\n",
    "  \n",
    "  \n",
    "최대 힙 : 각 노드의 키 값이 그 자식노드의 키 값보다 큰 힙  \n",
    "최소 힙 : 각 노드의 키 값이 그 자식노드의 키 값보다 작은 힙  \n",
    "  \n",
    "파이썬  \n",
    "- heap 기능을 위해 라이브러리를 제공함  \n",
    "- 힙은 최소 힙으로 구성  \n",
    "- 단순히 원소를 힙에 전부 넣었다가 빼는 것 만으로도 시간복잡도 NlogN에 오름차순 정렬  - 보통 최소 힙 자료구조의 최상단 원소는 가장 작은 원소  \n",
    "- heapq.heappush() : 힙에 원소 삽입  \n",
    "- heapq.heappop() : 힙에서 원소 꺼낼 경우  "
   ]
  },
  {
   "cell_type": "code",
   "execution_count": 6,
   "metadata": {},
   "outputs": [
    {
     "name": "stdout",
     "output_type": "stream",
     "text": [
      "오름차순 : [0, 1, 3, 5, 6, 7, 8, 9]\n",
      "내림차순 : [9, 8, 7, 6, 5, 3, 1, 0]\n"
     ]
    }
   ],
   "source": [
    "# 코드 예시\n",
    "import heapq\n",
    "# heapq.heappush(): 원소 삽입\n",
    "# heapq.heappop(): 원소 삭제 : heap에서 가장 작은 항목을 pop한 후 반환\n",
    "\n",
    "# 파이썬에는 최소힙(min heap)이 구현되어 있기 때문에 원소를 힙에 전부 삽입했다가 제거해 오름차순 정렬 가능\n",
    "# 오름차순 정렬\n",
    "def heapsort(iterable):\n",
    "    heap = []\n",
    "    result = []\n",
    "    for value in iterable:\n",
    "        heapq.heappush(heap, value)\n",
    "    for i in range(len(heap)):\n",
    "        result.append(heapq.heappop(heap))\n",
    "    return result\n",
    "\n",
    "result = heapsort([1,9,0,7,8,6,3,5])\n",
    "print(f'오름차순 : {result}')\n",
    "\n",
    "\n",
    "# 내림차순 정렬\n",
    "def heapsort(iterable):\n",
    "    heap = []\n",
    "    result = []\n",
    "    for value in iterable:\n",
    "        heapq.heappush(heap, -value)\n",
    "    # print(heap)\n",
    "    # [-9, -8, -6, -5, -7, 0, -3, -1]\n",
    "    for i in range(len(heap)):\n",
    "        result.append(-heapq.heappop(heap))\n",
    "    return result\n",
    "\n",
    "result = heapsort([1,9,0,7,8,6,3,5])\n",
    "print(f'내림차순 : {result}')"
   ]
  },
  {
   "cell_type": "code",
   "execution_count": null,
   "metadata": {},
   "outputs": [],
   "source": []
  },
  {
   "cell_type": "code",
   "execution_count": null,
   "metadata": {},
   "outputs": [],
   "source": []
  },
  {
   "cell_type": "code",
   "execution_count": null,
   "metadata": {},
   "outputs": [],
   "source": []
  },
  {
   "cell_type": "markdown",
   "metadata": {},
   "source": [
    "## 프로그래머스_코딩테스트 연습 - 힙\n",
    "https://programmers.co.kr/learn/courses/30/parts/12117"
   ]
  },
  {
   "cell_type": "markdown",
   "metadata": {},
   "source": [
    "### 1. 더 맵게 - Lv2\n",
    "매운 것을 좋아하는 Leo는 모든 음식의 스코빌 지수를 K 이상으로 만들고 싶습니다. 모든 음식의 스코빌 지수를 K 이상으로 만들기 위해 Leo는 스코빌 지수가 가장 낮은 두 개의 음식을 아래와 같이 특별한 방법으로 섞어 새로운 음식을 만듭니다.\n",
    "\n",
    "**_섞은 음식의 스코빌 지수 = 가장 맵지 않은 음식의 스코빌 지수 + (두 번째로 맵지 않은 음식의 스코빌 지수 * 2)_**\n",
    "  \n",
    "Leo는 모든 음식의 스코빌 지수가 K 이상이 될 때까지 반복하여 섞습니다.\n",
    "Leo가 가진 음식의 스코빌 지수를 담은 배열 scoville과 원하는 스코빌 지수 K가 주어질 때, 모든 음식의 스코빌 지수를 K 이상으로 만들기 위해 섞어야 하는 최소 횟수를 return 하도록 solution 함수를 작성해주세요.  \n",
    "\n",
    "<제한 사항>  \n",
    "scoville의 길이는 2 이상 1,000,000 이하입니다.  \n",
    "K는 0 이상 1,000,000,000 이하입니다.  \n",
    "scoville의 원소는 각각 0 이상 1,000,000 이하입니다.  \n",
    "모든 음식의 스코빌 지수를 K 이상으로 만들 수 없는 경우에는 -1을 return 합니다.  \n",
    "  \n",
    "<입력 예시>  \n",
    "[1, 2, 3, 9, 10, 12]  : scovile  \n",
    "7    : K\n",
    "    \n",
    "<출력 예시>  \n",
    "2 "
   ]
  },
  {
   "cell_type": "code",
   "execution_count": 18,
   "metadata": {},
   "outputs": [
    {
     "data": {
      "text/plain": [
       "2"
      ]
     },
     "execution_count": 18,
     "metadata": {},
     "output_type": "execute_result"
    }
   ],
   "source": [
    "### 시도1.\n",
    "scoville = [1, 2, 3, 9, 10, 12]\n",
    "K = 7\n",
    "\n",
    "import heapq\n",
    "def heapsort(iterable): # 오름차순 정렬 함수\n",
    "    heap = []\n",
    "    result = []\n",
    "    for value in iterable:\n",
    "        heapq.heappush(heap, value)\n",
    "    for i in range(len(heap)):\n",
    "        result.append(heapq.heappop(heap))\n",
    "    return result\n",
    "\n",
    "def solution(scoville, K):\n",
    "    answer = 0\n",
    "    \n",
    "    result = heapsort(scoville) # scoville 오름차순 정렬된 리스트\n",
    "    \n",
    "    while True : # 섞는 작업\n",
    "        if max(result) < K and len(result) < 2 : # 아무리 섞어도 기준 못 넘는 경우\n",
    "            answer = -1\n",
    "            break\n",
    "\n",
    "\n",
    "        if result[0] < K : # 제일 작은 값이 k보다 작으면\n",
    "            min_val = result.pop(0) # 제일 작은 값\n",
    "            result[0] = min_val + (result[0]*2) # 섞기\n",
    "            answer += 1\n",
    "            result = heapsort(result) # 오름차순 정렬\n",
    "            if min(result) >= K :\n",
    "                break\n",
    "\n",
    "    return answer\n",
    "\n",
    "solution(scoville, K)\n",
    "\n",
    "# 정확성은 만점\n",
    "# 효율성 전부 시간초과(정렬하는 과정에서 시간이 너무 오래 걸리는 것이라 판단)"
   ]
  },
  {
   "cell_type": "code",
   "execution_count": 21,
   "metadata": {},
   "outputs": [
    {
     "data": {
      "text/plain": [
       "2"
      ]
     },
     "execution_count": 21,
     "metadata": {},
     "output_type": "execute_result"
    }
   ],
   "source": [
    "### 시도2.\n",
    "scoville = [1, 2, 3, 9, 10, 12]\n",
    "K = 7\n",
    "\n",
    "import heapq\n",
    "\n",
    "def solution(scoville, K):\n",
    "    answer = 0\n",
    "    heap = []\n",
    "    \n",
    "    for i in scoville : # heap 원소 삽입\n",
    "        heapq.heappush(heap, i)\n",
    "    \n",
    "    while heap[0] < K :\n",
    "        \n",
    "        if len(heap) < 2 : # 모두 섞었는데 기준값 K가 안되는경우\n",
    "            answer = -1\n",
    "            break\n",
    "        \n",
    "        first = heapq.heappop(heap) # 최소값 뽑기\n",
    "        second = heapq.heappop(heap) # 두 번째 최소값 뽑기\n",
    "        \n",
    "        new = first + (second * 2)\n",
    "        \n",
    "        heapq.heappush(heap, new) # 새로운 값 heap에 추가\n",
    "        answer += 1\n",
    "\n",
    "    return answer\n",
    "\n",
    "solution(scoville, K)\n",
    "# heapq.heappop이 heap의 최소값을 뽑는 것 활용해 정렬 줄이기\n",
    "# 앞에 1,2개 정도면 heap 사용이 유리할 듯"
   ]
  },
  {
   "cell_type": "markdown",
   "metadata": {},
   "source": [
    "### 2. 디스크 컨트롤러 - Lv3\n",
    "하드디스크는 한 번에 하나의 작업만 수행할 수 있습니다. 디스크 컨트롤러를 구현하는 방법은 여러 가지가 있습니다. 가장 일반적인 방법은 요청이 들어온 순서대로 처리하는 것입니다.\n",
    "\n",
    "예를들어  \n",
    "  \n",
    "- 0ms 시점에 3ms가 소요되는 A작업 요청  \n",
    "- 1ms 시점에 9ms가 소요되는 B작업 요청  \n",
    "- 2ms 시점에 6ms가 소요되는 C작업 요청  \n",
    "  \n",
    "와 같은 요청이 들어왔습니다. 이를 그림으로 표현하면 아래와 같습니다.  \n",
    "  \n",
    "![programmers_heap_no2_1](./programmers_heap_no2_1.png)\n",
    "한 번에 하나의 요청만을 수행할 수 있기 때문에 각각의 작업을 요청받은 순서대로 처리하면 다음과 같이 처리 됩니다.  \n",
    "\n",
    "![programmers_heap_no2_2](./programmers_heap_no2_2.png)\n",
    "- A: 3ms 시점에 작업 완료 (요청에서 종료까지 : 3ms)  \n",
    "- B: 1ms부터 대기하다가, 3ms 시점에 작업을 시작해서 12ms 시점에 작업 완료(요청에서 종료까지 : 11ms)  \n",
    "- C: 2ms부터 대기하다가, 12ms 시점에 작업을 시작해서 18ms 시점에 작업 완료(요청에서 종료까지 : 16ms)  \n",
    "  \n",
    "이 때 각 작업의 요청부터 종료까지 걸린 시간의 평균은 10ms(= (3 + 11 + 16) / 3)가 됩니다.  \n",
    "  \n",
    "하지만 A → C → B 순서대로 처리하면  \n",
    "\n",
    "\n",
    "![programmers_heap_no2_3](./programmers_heap_no2_3.png)\n",
    "- A: 3ms 시점에 작업 완료(요청에서 종료까지 : 3ms)  \n",
    "- C: 2ms부터 대기하다가, 3ms 시점에 작업을 시작해서 9ms 시점에 작업 완료(요청에서 종료까지 : 7ms)  \n",
    "- B: 1ms부터 대기하다가, 9ms 시점에 작업을 시작해서 18ms 시점에 작업 완료(요청에서 종료까지 : 17ms)  \n",
    "\n",
    "이렇게 A → C → B의 순서로 처리하면 각 작업의 요청부터 종료까지 걸린 시간의 평균은 9ms(= (3 + 7 + 17) / 3)가 됩니다.\n",
    "\n",
    "각 작업에 대해 [작업이 요청되는 시점, 작업의 소요시간]을 담은 2차원 배열 jobs가 매개변수로 주어질 때, 작업의 요청부터 종료까지 걸린 시간의 평균을 가장 줄이는 방법으로 처리하면 평균이 얼마가 되는지 return 하도록 solution 함수를 작성해주세요. (단, 소수점 이하의 수는 버립니다)  \n",
    "  \n",
    "\n",
    "<제한 사항>  \n",
    "jobs의 길이는 1 이상 500 이하입니다.  \n",
    "jobs의 각 행은 하나의 작업에 대한 [작업이 요청되는 시점, 작업의 소요시간] 입니다.  \n",
    "각 작업에 대해 작업이 요청되는 시간은 0 이상 1,000 이하입니다.  \n",
    "각 작업에 대해 작업의 소요시간은 1 이상 1,000 이하입니다.  \n",
    "하드디스크가 작업을 수행하고 있지 않을 때에는 먼저 요청이 들어온 작업부터 처리합니다.  \n",
    "  \n",
    "<입력 예시>  \n",
    "[[0, 3], [1, 9], [2, 6]]  : jobs  \n",
    "    \n",
    "<출력 예시>  \n",
    "9 "
   ]
  },
  {
   "cell_type": "code",
   "execution_count": 37,
   "metadata": {},
   "outputs": [
    {
     "data": {
      "text/plain": [
       "9"
      ]
     },
     "execution_count": 37,
     "metadata": {},
     "output_type": "execute_result"
    }
   ],
   "source": [
    "jobs = [[0, 3], [1, 9], [2, 6]]\n",
    "\n",
    "def solution(jobs):\n",
    "    answer = 0\n",
    "    current_time = 0 # 현재 시간 저장\n",
    "    len_jobs = len(jobs)\n",
    "    jobs = sorted(jobs, key = lambda x : x[1]) \n",
    "    # 작은 시간이 걸리는 일부터 처리하기\n",
    "    # 대기시간 적은 일부터 처리하기\n",
    "    \n",
    "    while jobs : # jobs에 일이 남아있을 때까지 진행\n",
    "        for i in range(len(jobs)) : # jobs를 보며\n",
    "            if jobs[i][0] <= current_time : # 대기시간이 현재시간 넘어서 일 진행(짧게 걸리는 일 순서대로)\n",
    "\n",
    "                current_time += jobs[i][1] # 해당 일 끝나고 된 시간 저장\n",
    "                answer += current_time - jobs[i][0] # 해당 일 수행하는데 걸리는 시간 추가(일 마친 시간 - 대기 마친 시간)\n",
    "                jobs.pop(i) # 일 끝났으면 리스트에서 제거\n",
    "                break\n",
    "\n",
    "            if i == (len(jobs) - 1) : # 일이 있으나 대기시간이라 진행 못 하면 현재 시간 + 1\n",
    "                current_time += 1\n",
    "\n",
    "    return int(answer/len_jobs)\n",
    "\n",
    "solution(jobs)"
   ]
  },
  {
   "cell_type": "markdown",
   "metadata": {},
   "source": [
    "### 3. 이중우선순위큐 - Lv3\n",
    "이중 우선순위 큐는 다음 연산을 할 수 있는 자료구조를 말합니다.  \n",
    "![programmers_heap_no3](./programmers_heap_no3.png)  \n",
    "이중 우선순위 큐가 할 연산 operations가 매개변수로 주어질 때, 모든 연산을 처리한 후 큐가 비어있으면 [0,0] 비어있지 않으면 [최댓값, 최솟값]을 return 하도록 solution 함수를 구현해주세요. \n",
    "  \n",
    "<제한 사항>  \n",
    "operations는 길이가 1 이상 1,000,000 이하인 문자열 배열입니다.  \n",
    "operations의 원소는 큐가 수행할 연산을 나타냅니다.  \n",
    "원소는 “명령어 데이터” 형식으로 주어집니다.- 최댓값/최솟값을 삭제하는 연산에서 최댓값/최솟값이 둘 이상인 경우, 하나만 삭제합니다.  \n",
    "빈 큐에 데이터를 삭제하라는 연산이 주어질 경우, 해당 연산은 무시합니다.    \n",
    "  \n",
    "<입력 예시>  \n",
    "[\"I 16\",\"D 1\"]  : operations  \n",
    "    \n",
    "<출력 예시>  \n",
    "[0,0]   \n",
    "  \n",
    "<입력 예시>  \n",
    "[\"I 7\",\"I 5\",\"I -5\",\"D -1\"]  : operations  \n",
    "    \n",
    "<출력 예시>  \n",
    "[7,5]  \n",
    "\n",
    "  \n",
    "<입출력 예 설명>  \n",
    "16을 삽입 후 최댓값을 삭제합니다. 비어있으므로 [0,0]을 반환합니다.  \n",
    "7,5,-5를 삽입 후 최솟값을 삭제합니다. 최대값 7, 최소값 5를 반환합니다."
   ]
  },
  {
   "cell_type": "code",
   "execution_count": 18,
   "metadata": {
    "scrolled": true
   },
   "outputs": [
    {
     "data": {
      "text/plain": [
       "[7, 5]"
      ]
     },
     "execution_count": 18,
     "metadata": {},
     "output_type": "execute_result"
    }
   ],
   "source": [
    "#operations = [\"I 16\",\"D 1\"]\n",
    "operations = [\"I 7\",\"I 5\",\"I -5\",\"D -1\"]\n",
    "import heapq\n",
    "def solution(operations):\n",
    "    que = [] # 비어있는 큐 생성\n",
    "\n",
    "    for i in operations :\n",
    "        if i == \"D 1\" : # D 1인 경우\n",
    "            if len(que) == 0 : # 큐에 데이터 없으면 스킵\n",
    "                continue\n",
    "            else :\n",
    "                que.pop(-1) # 있으면 최대값 제거(heappush로 넣었으므로 정렬되어있음)\n",
    "\n",
    "        elif i == \"D -1\" : # D -1인 경우\n",
    "            if len(que) == 0 : # 큐에 데이터 없으면 스킵\n",
    "                continue\n",
    "            else :\n",
    "                heapq.heappop(que) # 있으면 최소값 제거\n",
    "        else : # I 숫자인경우\n",
    "            in_val = int(i.split()[1]) # 숫자 추출\n",
    "            heapq.heappush(que, in_val) # heap으로 삽입\n",
    "    \n",
    "    # 결과\n",
    "    if len(que) == 0 : # 큐가 비어있다면\n",
    "        answer = [0,0] \n",
    "    else : # 큐가 채워져있다면\n",
    "        answer = [max(que), min(que)] # [최대,최소] \n",
    "\n",
    "    return answer\n",
    "\n",
    "solution(operations)"
   ]
  },
  {
   "cell_type": "code",
   "execution_count": null,
   "metadata": {},
   "outputs": [],
   "source": []
  }
 ],
 "metadata": {
  "kernelspec": {
   "display_name": "Python 3",
   "language": "python",
   "name": "python3"
  },
  "language_info": {
   "codemirror_mode": {
    "name": "ipython",
    "version": 3
   },
   "file_extension": ".py",
   "mimetype": "text/x-python",
   "name": "python",
   "nbconvert_exporter": "python",
   "pygments_lexer": "ipython3",
   "version": "3.7.3"
  }
 },
 "nbformat": 4,
 "nbformat_minor": 2
}
