{
 "cells": [
  {
   "cell_type": "code",
   "execution_count": 1,
   "metadata": {},
   "outputs": [],
   "source": [
    "# 참고\n",
    "# https://buyandpray.tistory.com/52"
   ]
  },
  {
   "cell_type": "markdown",
   "metadata": {},
   "source": [
    "# 11.완전탐색\n",
    "모든 경우를 탐색해보는 알고리즘\n",
    "  \n",
    "- for문과 if문을 활용하거나 BFS/DFS를 활용해 해결\n",
    "- 순열/조합을 활용하는 경우도 있음"
   ]
  },
  {
   "cell_type": "markdown",
   "metadata": {},
   "source": [
    "## 프로그래머스_코딩테스트 연습 - 완전탐색\n",
    "https://programmers.co.kr/learn/courses/30/parts/12230"
   ]
  },
  {
   "cell_type": "markdown",
   "metadata": {},
   "source": [
    "### 1. 모의고사 - Lv1\n",
    "수포자는 수학을 포기한 사람의 준말입니다. 수포자 삼인방은 모의고사에 수학 문제를 전부 찍으려 합니다. 수포자는 1번 문제부터 마지막 문제까지 다음과 같이 찍습니다.\n",
    "\n",
    "1번 수포자가 찍는 방식: 1, 2, 3, 4, 5, 1, 2, 3, 4, 5, ...\n",
    "2번 수포자가 찍는 방식: 2, 1, 2, 3, 2, 4, 2, 5, 2, 1, 2, 3, 2, 4, 2, 5, ...\n",
    "3번 수포자가 찍는 방식: 3, 3, 1, 1, 2, 2, 4, 4, 5, 5, 3, 3, 1, 1, 2, 2, 4, 4, 5, 5, ...\n",
    "\n",
    "1번 문제부터 마지막 문제까지의 정답이 순서대로 들은 배열 answers가 주어졌을 때, 가장 많은 문제를 맞힌 사람이 누구인지 배열에 담아 return 하도록 solution 함수를 작성해주세요.\n",
    "  \n",
    "<제한 사항>  \n",
    "시험은 최대 10,000 문제로 구성되어있습니다.  \n",
    "문제의 정답은 1, 2, 3, 4, 5중 하나입니다.  \n",
    "가장 높은 점수를 받은 사람이 여럿일 경우, return하는 값을 오름차순 정렬해주세요.  \n",
    "\n",
    "  \n",
    "<입력 예시>  \n",
    "[1,2,3,4,5]\t  : answers  \n",
    "    \n",
    "<출력 예시>  \n",
    "[1]  \n",
    "  \n",
    "<입력 예시>  \n",
    "[1,3,2,4,2]  : answers  \n",
    "    \n",
    "<출력 예시>  \n",
    "[1, 2, 3] "
   ]
  },
  {
   "cell_type": "code",
   "execution_count": 25,
   "metadata": {},
   "outputs": [
    {
     "data": {
      "text/plain": [
       "[1]"
      ]
     },
     "execution_count": 25,
     "metadata": {},
     "output_type": "execute_result"
    }
   ],
   "source": [
    "answers = [1,2,3,4,5]\n",
    "def solution(answers):\n",
    "    answer = [] # 가장 높은 점수를 받는 사람이 저장되는 list\n",
    "    answers_num = len(answers) # 시험 문제 개수\n",
    "    supo1 = [1,2,3,4,5] # 수포자1 찍는 방식\n",
    "    supo2 = [2,1,2,3,2,4,2,5] # 수포자2 찍는 방식\n",
    "    supo3 = [3,3,1,1,2,2,4,4,5,5] # 수포자3 찍는 방식\n",
    "    \n",
    "    supo1 = supo1 * ((answers_num // len(supo1)) + 1) # 시험문제 수만큼 찍기 반복\n",
    "    supo2 = supo2 * ((answers_num // len(supo2)) + 1) # 시험문제 수만큼 찍기 반복\n",
    "    supo3 = supo3 * ((answers_num // len(supo3)) + 1) # 시험문제 수만큼 찍기 반복\n",
    "    \n",
    "    cnt1 = 0 # 수포자1 정답개수 세기\n",
    "    cnt2 = 0 # 수포자2 정답개수 세기\n",
    "    cnt3 = 0 # 수포자3 정답개수 세기\n",
    "    \n",
    "    # 정답과 일치하면 cnt 증가\n",
    "    for i in range(len(answers)) :\n",
    "        if answers[i] == supo1[i] :\n",
    "            cnt1 += 1\n",
    "        if answers[i] == supo2[i] :\n",
    "            cnt2 += 1\n",
    "        if answers[i] == supo3[i] :\n",
    "            cnt3 += 1\n",
    "            \n",
    "    score_lst = [cnt1,cnt2,cnt3] # 최종 수포자 점수 리스트\n",
    "    max_score = max(score_lst) # 최고점\n",
    "    \n",
    "    for idx, score in enumerate(score_lst) : # 최고점과 동일한 점수 받은 수포자 번호 저장\n",
    "        if score == max_score :\n",
    "            answer.append(idx+1)\n",
    "            \n",
    "    return answer\n",
    "\n",
    "solution(answers)"
   ]
  },
  {
   "cell_type": "markdown",
   "metadata": {},
   "source": [
    "### 2. 소수찾기 - Lv2\n",
    "한자리 숫자가 적힌 종이 조각이 흩어져있습니다. 흩어진 종이 조각을 붙여 소수를 몇 개 만들 수 있는지 알아내려 합니다.\n",
    "\n",
    "각 종이 조각에 적힌 숫자가 적힌 문자열 numbers가 주어졌을 때, 종이 조각으로 만들 수 있는 소수가 몇 개인지 return 하도록 solution 함수를 완성해주세요.\n",
    "  \n",
    "<제한 사항>  \n",
    "numbers는 길이 1 이상 7 이하인 문자열입니다.  \n",
    "numbers는 0~9까지 숫자만으로 이루어져 있습니다.  \n",
    "\"013\"은 0, 1, 3 숫자가 적힌 종이 조각이 흩어져있다는 의미입니다.  \n",
    "\n",
    "  \n",
    "<입력 예시>  \n",
    "\"17\"  : numbers  \n",
    "    \n",
    "<출력 예시>  \n",
    "3  \n",
    "  \n",
    "<입력 예시>  \n",
    "\"011\"  : numbers  \n",
    "    \n",
    "<출력 예시>  \n",
    "2"
   ]
  },
  {
   "cell_type": "code",
   "execution_count": 52,
   "metadata": {},
   "outputs": [
    {
     "data": {
      "text/plain": [
       "2"
      ]
     },
     "execution_count": 52,
     "metadata": {},
     "output_type": "execute_result"
    }
   ],
   "source": [
    "numbers = \"011\"\n",
    "def is_prime(n) : # 소수 판별하는 함수\n",
    "    if n < 2 : # 0 또는 1이면 소수 아님\n",
    "        return False\n",
    "    elif n == 2 : # 2면 소수\n",
    "        return True\n",
    "    else :\n",
    "        for i in range(2, n//2 + 1) : # 자기자신/2로 나눈 값까지 자기자신을 나누며 나누어떨어지면 합성수\n",
    "            if n%i == 0 :\n",
    "                return False\n",
    "    return True\n",
    "\n",
    "\n",
    "from itertools import permutations\n",
    "def solution(numbers):\n",
    "    answer = 0\n",
    "    num_lst = [] # 입력되는 숫자카드 저장 list\n",
    "    for i in numbers : # 숫자하나하나 저장\n",
    "        num_lst.append(i)\n",
    "        \n",
    "    result_lst = [] # 숫자카드 조합을 저장하는 list\n",
    "    for i in range(1,len(num_lst)+1) : \n",
    "        result = [int(''.join(i)) for i in permutations(num_lst,i)] # 길이대로 조합 저장\n",
    "        result_lst.extend(result) # 조합 모두 저장\n",
    "    for n in set(result_lst) :# 소수면 +1\n",
    "        if is_prime(n) :\n",
    "            answer += 1\n",
    "\n",
    "    return answer\n",
    "\n",
    "solution(numbers)"
   ]
  },
  {
   "cell_type": "markdown",
   "metadata": {},
   "source": [
    "### 3. 카펫 - Lv2\n",
    "Leo는 카펫을 사러 갔다가 아래 그림과 같이 중앙에는 노란색으로 칠해져 있고 테두리 1줄은 갈색으로 칠해져 있는 격자 모양 카펫을 봤습니다.\n",
    "!['programmers_fullsearch_no3'](./programmers_fullsearch_no3.png)\n",
    "  \n",
    "Leo는 집으로 돌아와서 아까 본 카펫의 노란색과 갈색으로 색칠된 격자의 개수는 기억했지만, 전체 카펫의 크기는 기억하지 못했습니다.\n",
    "\n",
    "Leo가 본 카펫에서 갈색 격자의 수 brown, 노란색 격자의 수 yellow가 매개변수로 주어질 때 카펫의 가로, 세로 크기를 순서대로 배열에 담아 return 하도록 solution 함수를 작성해주세요.  \n",
    "\n",
    "<제한 사항>  \n",
    "갈색 격자의 수 brown은 8 이상 5,000 이하인 자연수입니다.  \n",
    "노란색 격자의 수 yellow는 1 이상 2,000,000 이하인 자연수입니다.  \n",
    "카펫의 가로 길이는 세로 길이와 같거나, 세로 길이보다 깁니다.  \n",
    "\n",
    "  \n",
    "<입력 예시>  \n",
    "10  : brown  \n",
    "2 : yellow\n",
    "\n",
    "<출력 예시>  \n",
    "[4,3]  \n",
    "  \n",
    "<입력 예시>  \n",
    "8  : brown  \n",
    "1 : yellow\n",
    "\n",
    "<출력 예시>  \n",
    "[3,3]  \n",
    "  \n",
    "<입력 예시>  \n",
    "24  : brown  \n",
    "24 : yellow\n",
    "\n",
    "<출력 예시>  \n",
    "[8,6]  "
   ]
  },
  {
   "cell_type": "code",
   "execution_count": 97,
   "metadata": {},
   "outputs": [
    {
     "data": {
      "text/plain": [
       "[8, 6]"
      ]
     },
     "execution_count": 97,
     "metadata": {},
     "output_type": "execute_result"
    }
   ],
   "source": [
    "brown = 24\n",
    "yellow = 24\n",
    "\n",
    "def solution(brown, yellow):\n",
    "    \n",
    "    # yellow의 가로a, 세로b의 길이가 정해지면 전체 카펫 크기가 결정됨\n",
    "    # 카펫 크기 : a+2, b+2\n",
    "    # 갈색타일의 개수 : (a+2) * 2 + (b+2) * 2 - 4\n",
    "    # 해당 조건을 만족하는 a,b를 찾으면 됨(가로a가 항상 크거나 같으므로 최대치에서 줄여가며)\n",
    "\n",
    "\n",
    "    for a in range(yellow+1,0,-1) : # yellow 가로 최대길이는 yellow 타일 개수\n",
    "        if yellow % a == 0 : # 가로길이가 정해지고 yellow타일 개수를 가로 길이로 나눈 세로 길이가 정수인 경우\n",
    "            b = yellow // a # 세로길이 저장\n",
    "\n",
    "            if 2*a + 2*b + 4 == brown : # brown 타일의 개수가 조건을 만족하면\n",
    "                return [a+2,b+2] # 전체 카펫 크기 반환\n",
    "            \n",
    "solution(brown, yellow)"
   ]
  },
  {
   "cell_type": "code",
   "execution_count": null,
   "metadata": {},
   "outputs": [],
   "source": []
  }
 ],
 "metadata": {
  "kernelspec": {
   "display_name": "Python 3",
   "language": "python",
   "name": "python3"
  },
  "language_info": {
   "codemirror_mode": {
    "name": "ipython",
    "version": 3
   },
   "file_extension": ".py",
   "mimetype": "text/x-python",
   "name": "python",
   "nbconvert_exporter": "python",
   "pygments_lexer": "ipython3",
   "version": "3.7.3"
  }
 },
 "nbformat": 4,
 "nbformat_minor": 2
}
