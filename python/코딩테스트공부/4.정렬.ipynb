{
 "cells": [
  {
   "cell_type": "code",
   "execution_count": 1,
   "metadata": {},
   "outputs": [],
   "source": [
    "# 참고\n",
    "# 나동빈, 『이것이 코딩 테스트다 with 파이썬』, 한빛미디어-2021.07.12, 156-184"
   ]
  },
  {
   "cell_type": "markdown",
   "metadata": {},
   "source": [
    "# 4. 정렬\n",
    "데이터를 특정한 기준에 따라서 순서대로 나열  \n",
    "\n",
    "1. 선택 정렬  \n",
    "데이터가 무작위로 여러 개 있을 때, 이 중에서 가장 작은 데이터를 선택해 맨 앞에 있는 데이터와 바꾸고, 그 다음 작은 데이터를 선택해 앞에서 두 번째 데이터 바꾸는 과정을 반복 (스와프 사용, 시간복잡도는 O(N^2))\n",
    "  \n",
    "2. 삽입 정렬  \n",
    "데이터를 하나씩 확인하여 각 데이터를 적절한 위치에 삽입(시간복잡도 O(N^2))\n",
    "  \n",
    "3. 퀵 정렬  \n",
    "가장 많이 사용되는 알고리즘. 기준 데이터를 설정하고 그 기준보다 큰 데이터와 작은 데이터의 위치를 바꿈(평균 시간복잡도 O(NlogN)\n",
    "  \n",
    "4. 계수 정렬  \n",
    "특정한 조건이 부합할 때만 사용할 수 있지만 매우 빠른 정렬 알고리즘(큰 수와 작은 수 차이가 작을 때만 사용 가능)  \n",
    "인덱스 리스트를 만든 후 리스트 하나씩 돌면서 인데스에 맞는 값 나오면 +1\n",
    "  \n",
    "5. Python sorted()  \n",
    "병합 정렬 기반으로 생성, 시간복잡도 O(NlogN)보장"
   ]
  },
  {
   "cell_type": "markdown",
   "metadata": {},
   "source": [
    "## 실전문제1. 위에서 아래로\n",
    "하나의 수열에는 다양한 수가 존재한다. 이러한 수는 크기에 상관없이 나열되어 있다. 이 수를 큰 수부터 작은 수의 순서로 정렬해야한다. 수열을 내림차순으로 정렬하는 프로그램을 만드시오.\n",
    "  \n",
    "<입력 예시>  \n",
    "3  \n",
    "15  \n",
    "27  \n",
    "12  \n",
    "<출력 예시>  \n",
    "27 15 12"
   ]
  },
  {
   "cell_type": "code",
   "execution_count": 2,
   "metadata": {},
   "outputs": [
    {
     "name": "stdout",
     "output_type": "stream",
     "text": [
      "3\n",
      "15\n",
      "27\n",
      "12\n",
      "27 15 12 "
     ]
    }
   ],
   "source": [
    "n = int(input())\n",
    "lst = []\n",
    "for i in range(n):\n",
    "    lst.append(int(input()))\n",
    "lst = sorted(lst, reverse = True) # 정렬\n",
    "for i in lst :\n",
    "    print(i, end = ' ')"
   ]
  },
  {
   "cell_type": "markdown",
   "metadata": {},
   "source": [
    "## 실전문제2. 성적이 낮은 순서로 학생 출력하기\n",
    "N명의 학생 정보가 있다. 학생 정보는 학생의 이름과 학생의 성적으로 구분된다. 각 학생의 이름과 성적 정보가 주어졌을 때 성적이 낮은 순서대로 학생의 이름을 출력하는 프로그램을 작성하시오.  \n",
    "  \n",
    "<입력 예시>  \n",
    "2  \n",
    "홍길동 95  \n",
    "이순신 77  \n",
    "<출력 예시>  \n",
    "이순신 홍길동"
   ]
  },
  {
   "cell_type": "code",
   "execution_count": 4,
   "metadata": {},
   "outputs": [
    {
     "name": "stdout",
     "output_type": "stream",
     "text": [
      "2\n",
      "홍길동 95\n",
      "이순신 77\n",
      "이순신 홍길동 "
     ]
    }
   ],
   "source": [
    "n = int(input())\n",
    "\n",
    "lst = []\n",
    "for i in range(n) :\n",
    "    in_data = input().split()\n",
    "    lst.append((in_data[0], int(in_data[1])))\n",
    "\n",
    "# key를 활용한 데이터 정렬\n",
    "lst = sorted(lst, key = lambda student : student[1])\n",
    "\n",
    "# 결과 출력\n",
    "for i in lst : \n",
    "    print(i[0], end= ' ')"
   ]
  },
  {
   "cell_type": "markdown",
   "metadata": {},
   "source": [
    "## 실전문제3. 두 배열의 원소 교체\n",
    "동빈이는 두 개의 배열 A와 B를 가지고 있다. 두 배열은 N개의 원소로 구성되어 있으며, 배열의 원소는 모두 자연수이다. 동빈이는 최대 K번의 바꿔치기 연산을 수행할 수 있는데, 바꿔치기 연산이란 배열 A에 있는 원소 하나와 배열 B에 있는 원소 하나를 골라서 두 원소를 서로 바꾸는 것을 말한다. 동빈이의 최종 목표는 배열 A의 모든 원소의 합이 최대가 되도록 하는 것이며, 여러분은 동빈이를 도와야한다.  \n",
    "N, K, 그리고 배열 A와 B의 정보가 주어졌을 때, 최대 K번의 바꿔치기 연산을 수행하여 만들 수 있는 배열 A의 모든 원소의 합의 최대값을 출력하는 프로그램을 작성하시오.  \n",
    "  \n",
    "예를 들어, N = 5, K = 3이고 배열 A와 B가 다음과 같다고 하자.  \n",
    "A = [1,2,5,4,3]  \n",
    "B = [5,5,6,6,5]  \n",
    "이 경우, 다음과 같이 세 번의 연산을 수행할 수 있다.  \n",
    "1) A의 1과 B의 6 바꾸기  \n",
    "2) A의 2와 B의 6 바꾸기  \n",
    "3) A의 3과 B의 5 바꾸기  \n",
    "세 번의 연산 후 A와 B는 다음과 같이 된다.  \n",
    "A = [6,6,5,4,5]  \n",
    "B = [3,5,1,2,5]  \n",
    "이 때 A의 모든 원소의 합은 26이며 이보다 더 크게 만들 수는 없다. 따라서 예시의 정답은 26이다.  \n",
    "  \n",
    "<입력 예시>  \n",
    "5 3  \n",
    "1 2 5 4 3  \n",
    "5 5 6 6 5  \n",
    "<출력 예시>  \n",
    "26"
   ]
  },
  {
   "cell_type": "code",
   "execution_count": 8,
   "metadata": {},
   "outputs": [
    {
     "name": "stdout",
     "output_type": "stream",
     "text": [
      "5 3\n",
      "1 2 5 4 3\n",
      "5 5 6 6 5\n",
      "26\n"
     ]
    }
   ],
   "source": [
    "n, k = map(int, input().split())\n",
    "a = list(map(int,input().split()))\n",
    "b = list(map(int,input().split()))\n",
    "\n",
    "\n",
    "# a.sort()\n",
    "a = sorted(a) # 오름차순 정렬 (a.sort())\n",
    "\n",
    "\n",
    "# b.sort(reverse=True)\n",
    "b = sorted(b, reverse = True) # 내림차순 정렬\n",
    "\n",
    "# 스왑\n",
    "for i in range(k) :\n",
    "    a[i] = b[i]\n",
    "print(sum(a))"
   ]
  },
  {
   "cell_type": "markdown",
   "metadata": {},
   "source": [
    "## 백준 연습문제\n",
    "3개  \n",
    "https://www.acmicpc.net/problemset?sort=ac_desc&algo=97"
   ]
  },
  {
   "cell_type": "markdown",
   "metadata": {},
   "source": [
    "### 1931.회의실 배정\n",
    "https://www.acmicpc.net/problem/1931  \n",
    "한 개의 회의실이 있는데 이를 사용하고자 하는 N개의 회의에 대하여 회의실 사용표를 만들려고 한다. 각 회의 I에 대해 시작시간과 끝나는 시간이 주어져 있고, 각 회의가 겹치지 않게 하면서 회의실을 사용할 수 있는 회의의 최대 개수를 찾아보자. 단, 회의는 한번 시작하면 중간에 중단될 수 없으며 한 회의가 끝나는 것과 동시에 다음 회의가 시작될 수 있다. 회의의 시작시간과 끝나는 시간이 같을 수도 있다. 이 경우에는 시작하자마자 끝나는 것으로 생각하면 된다.\n",
    "  \n",
    "  \n",
    "<입력 조건>  \n",
    "첫째 줄에 회의의 수 N(1 ≤ N ≤ 100,000)이 주어진다. 둘째 줄부터 N+1 줄까지 각 회의의 정보가 주어지는데 이것은 공백을 사이에 두고 회의의 시작시간과 끝나는 시간이 주어진다. 시작 시간과 끝나는 시간은 2^31-1보다 작거나 같은 자연수 또는 0이다.  \n",
    "<출력 조건>  \n",
    "첫째 줄에 최대 사용할 수 있는 회의의 최대 개수를 출력한다.  \n",
    "  \n",
    "<입력 예시>  \n",
    "11  \n",
    "1 4  \n",
    "3 5  \n",
    "0 6  \n",
    "5 7  \n",
    "3 8  \n",
    "5 9  \n",
    "6 10  \n",
    "8 11  \n",
    "8 12  \n",
    "2 13  \n",
    "12 14    \n",
    "<출력 예시>  \n",
    "4"
   ]
  },
  {
   "cell_type": "code",
   "execution_count": 11,
   "metadata": {},
   "outputs": [
    {
     "name": "stdout",
     "output_type": "stream",
     "text": [
      "11\n",
      "1 4\n",
      "3 5\n",
      "0 6\n",
      "5 7\n",
      "3 8\n",
      "5 9\n",
      "6 10\n",
      "8 11\n",
      "8 12\n",
      "2 13\n",
      "12 14\n",
      "4\n"
     ]
    }
   ],
   "source": [
    "n = int(input())\n",
    "\n",
    "array = []\n",
    "# 회의시간표 받아오기\n",
    "for i in range(n):\n",
    "    start, end = map(int,input().split())\n",
    "    array.append((start, end))\n",
    "\n",
    "# 시작시간 순으로 정렬한 후 끝 시간 순으로 정렬\n",
    "array = sorted(array, key = lambda x: x[0])\n",
    "array = sorted(array, key = lambda x: x[1])\n",
    "\n",
    "# 첫 번째 원소가 제일 빨리 시작해서 빨리 끝나는 회의\n",
    "ans = 1\n",
    "end = array[0][1]\n",
    "\n",
    "# 정렬된 회의 시간 확인하며 다음 회의 시작 시간이 이전 끝나느 시간보다 크거나 같은 회의 있다면 추가\n",
    "for i in range(1, n) :\n",
    "    if array[i][0] >= end :\n",
    "        ans += 1\n",
    "        end = array[i][1]\n",
    "print(ans)"
   ]
  },
  {
   "cell_type": "markdown",
   "metadata": {},
   "source": [
    "### 1946. 신입사원\n",
    "https://www.acmicpc.net/problem/1946  \n",
    "기업의 이념에 따라 그들은 최고의 인재들만을 사원으로 선발하고 싶어 한다.\n",
    "\n",
    "그래서 진영 주식회사는, 다른 모든 지원자와 비교했을 때 서류심사 성적과 면접시험 성적 중 적어도 하나가 다른 지원자보다 떨어지지 않는 자만 선발한다는 원칙을 세웠다. 즉, 어떤 지원자 A의 성적이 다른 어떤 지원자 B의 성적에 비해 서류 심사 결과와 면접 성적이 모두 떨어진다면 A는 결코 선발되지 않는다.\n",
    "\n",
    "이러한 조건을 만족시키면서, 진영 주식회사가 이번 신규 사원 채용에서 선발할 수 있는 신입사원의 최대 인원수를 구하는 프로그램을 작성하시오. \n",
    "   \n",
    "<입력 조건>  \n",
    "첫째 줄에는 테스트 케이스의 개수 T(1 ≤ T ≤ 20)가 주어진다. 각 테스트 케이스의 첫째 줄에 지원자의 숫자 N(1 ≤ N ≤ 100,000)이 주어진다. 둘째 줄부터 N개 줄에는 각각의 지원자의 서류심사 성적, 면접 성적의 순위가 공백을 사이에 두고 한 줄에 주어진다. 두 성적 순위는 모두 1위부터 N위까지 동석차 없이 결정된다고 가정한다.  \n",
    "<출력 조건>  \n",
    "각 테스트 케이스에 대해서 진영 주식회사가 선발할 수 있는 신입사원의 최대 인원수를 한 줄에 하나씩 출력한다.  \n",
    "  \n",
    "<입력 예시>  \n",
    "2  \n",
    "5  \n",
    "3 2  \n",
    "1 4  \n",
    "4 1  \n",
    "2 3  \n",
    "5 5  \n",
    "7  \n",
    "3 6  \n",
    "7 3  \n",
    "4 2  \n",
    "1 4  \n",
    "5 7  \n",
    "2 5  \n",
    "6 1    \n",
    "<출력 예시>  \n",
    "4  \n",
    "3"
   ]
  },
  {
   "cell_type": "code",
   "execution_count": 4,
   "metadata": {},
   "outputs": [
    {
     "name": "stdout",
     "output_type": "stream",
     "text": [
      "2\n",
      "5\n",
      "3 2\n",
      "1 4\n",
      "4 1\n",
      "2 3\n",
      "5 5\n",
      "4\n",
      "7\n",
      "3 6\n",
      "7 3\n",
      "4 2\n",
      "1 4\n",
      "5 7\n",
      "2 5\n",
      "6 1\n",
      "3\n"
     ]
    }
   ],
   "source": [
    "from sys import stdin\n",
    "test_case = int(input())\n",
    "for i in range(test_case) :\n",
    "    n = int(input()) # 지원자 수\n",
    "    lst = []\n",
    "    for n_num in range(n):\n",
    "        s1, s2 = map(int, input().split()) # 서류, 면접 성적 저장\n",
    "        # s1, s2 = map(int, stdin.readline().split())\n",
    "        lst.append((s1, s2)) # lst 삽입\n",
    "\n",
    "    # 서류 성적으로 정렬\n",
    "    lst.sort(key = lambda x : x[0])\n",
    "\n",
    "    # 면접 성적 비교하며 합격자 선별\n",
    "    cnt = 1 # 서류 1등 합격자는 무조건 합격\n",
    "    min_s2 = lst[0][1] # 서류 1등의 면접 성적이 비교 대상이 됨 아래로 내려가면서 스왑\n",
    "    for j in range(1, len(lst)) :\n",
    "        if lst[j][1] < min_s2 : # 서류 등수가 낮은데 면접 등수가 높으면 합격\n",
    "            cnt += 1\n",
    "            min_s2 = lst[j][1]\n",
    "    print(cnt)"
   ]
  },
  {
   "cell_type": "markdown",
   "metadata": {},
   "source": [
    "### 1431. 시리얼 번호\n",
    "https://www.acmicpc.net/problem/1431  \n",
    "다솜이는 기타를 많이 가지고 있다. 그리고 각각의 기타는 모두 다른 시리얼 번호를 가지고 있다. 다솜이는 기타를 빨리 찾아서 빨리 사람들에게 연주해주기 위해서 기타를 시리얼 번호 순서대로 정렬하고자 한다.\n",
    "\n",
    "모든 시리얼 번호는 알파벳 대문자 (A-Z)와 숫자 (0-9)로 이루어져 있다.\n",
    "\n",
    "시리얼번호 A가 시리얼번호 B의 앞에 오는 경우는 다음과 같다.\n",
    "\n",
    "1. A와 B의 길이가 다르면, 짧은 것이 먼저 온다.\n",
    "2. 만약 서로 길이가 같다면, A의 모든 자리수의 합과 B의 모든 자리수의 합을 비교해서 작은 합을 가지는 것이 먼저온다. (숫자인 것만 더한다)\n",
    "3. 만약 1,2번 둘 조건으로도 비교할 수 없으면, 사전순으로 비교한다. 숫자가 알파벳보다 사전순으로 작다.  \n",
    "시리얼이 주어졌을 때, 정렬해서 출력하는 프로그램을 작성하시오.  \n",
    "   \n",
    "<입력 조건>  \n",
    "첫째 줄에 기타의 개수 N이 주어진다. N은 50보다 작거나 같다. 둘째 줄부터 N개의 줄에 시리얼 번호가 하나씩 주어진다. 시리얼 번호의 길이는 최대 50이고, 알파벳 대문자 또는 숫자로만 이루어져 있다. 시리얼 번호는 중복되지 않는다.  \n",
    "<출력 조건>  \n",
    "첫째 줄부터 차례대로 N개의 줄에 한줄에 하나씩 시리얼 번호를 정렬한 결과를 출력한다.  \n",
    "  \n",
    "<입력 예시>  \n",
    "5  \n",
    "ABCD  \n",
    "145C  \n",
    "A  \n",
    "A910  \n",
    "Z321  \n",
    "<출력 예시>  \n",
    "A  \n",
    "ABCD  \n",
    "Z321  \n",
    "145C  \n",
    "A910  \n",
    "  \n",
    "<입력 예시>  \n",
    "2  \n",
    "Z19  \n",
    "Z20  \n",
    "<출력 예시>  \n",
    "Z20  \n",
    "Z19\n"
   ]
  },
  {
   "cell_type": "code",
   "execution_count": 17,
   "metadata": {},
   "outputs": [
    {
     "name": "stdout",
     "output_type": "stream",
     "text": [
      "5\n",
      "ABCD\n",
      "145C\n",
      "A\n",
      "A910\n",
      "Z321\n",
      "A\n",
      "ABCD\n",
      "Z321\n",
      "145C\n",
      "A910\n"
     ]
    }
   ],
   "source": [
    "import re\n",
    "# 시리얼 번호 개수\n",
    "n = int(input())\n",
    "\n",
    "# 시리얼 번호 불러오기\n",
    "serial_lst = []\n",
    "for i in range(n) :\n",
    "    serial_lst.append(input())\n",
    "\n",
    "# 시리얼 번호 내 숫자 합 리턴하는 함수를 생성\n",
    "def sum_serial_num(serial_num) :\n",
    "    num_lst = map(int, list(re.sub(r'[^0-9]','',serial_num))) # 숫자가 아닌(^0-9) 값 제거 후 리스트화\n",
    "    return sum(num_lst)\n",
    "\n",
    "# 규칙에 따라 정렬\n",
    "serial_lst.sort(key = lambda x : (len(x), sum_serial_num(x), x))\n",
    "\n",
    "# 출력\n",
    "for serial_num in serial_lst :\n",
    "    print(serial_num)"
   ]
  },
  {
   "cell_type": "markdown",
   "metadata": {},
   "source": [
    "## 프로그래머스_코딩테스트 연습 - 정렬\n",
    "https://programmers.co.kr/learn/courses/30/parts/12198"
   ]
  },
  {
   "cell_type": "markdown",
   "metadata": {},
   "source": [
    "### 1. K번째수 - Lv1\n",
    "배열 array의 i번째 숫자부터 j번째 숫자까지 자르고 정렬했을 때, k번째에 있는 수를 구하려 합니다.  \n",
    "  \n",
    "예를 들어 array가 [1, 5, 2, 6, 3, 7, 4], i = 2, j = 5, k = 3이라면  \n",
    "  \n",
    "array의 2번째부터 5번째까지 자르면 [5, 2, 6, 3]입니다.  \n",
    "1에서 나온 배열을 정렬하면 [2, 3, 5, 6]입니다.  \n",
    "2에서 나온 배열의 3번째 숫자는 5입니다.  \n",
    "배열 array, [i, j, k]를 원소로 가진 2차원 배열 commands가 매개변수로 주어질 때, commands의 모든 원소에 대해 앞서 설명한 연산을 적용했을 때 나온 결과를 배열에 담아 return 하도록 solution 함수를 작성해주세요.  \n",
    "\n",
    "<제한 사항>  \n",
    "array의 길이는 1 이상 100 이하입니다.  \n",
    "array의 각 원소는 1 이상 100 이하입니다.  \n",
    "commands의 길이는 1 이상 50 이하입니다.  \n",
    "commands의 각 원소는 길이가 3입니다.  \n",
    "  \n",
    "<입력 예시>  \n",
    "[1, 5, 2, 6, 3, 7, 4]  : array  \n",
    "[[2, 5, 3], [4, 4, 1], [1, 7, 3]]    : commands\n",
    "    \n",
    "<출력 예시>  \n",
    "[5, 6, 3]  \n",
    "  \n",
    "<입출력 예 설명>  \n",
    "[1, 5, 2, 6, 3, 7, 4]를 2번째부터 5번째까지 자른 후 정렬합니다. [2, 3, 5, 6]의 세 번째 숫자는 5입니다.  \n",
    "[1, 5, 2, 6, 3, 7, 4]를 4번째부터 4번째까지 자른 후 정렬합니다. [6]의 첫 번째 숫자는 6입니다.  \n",
    "[1, 5, 2, 6, 3, 7, 4]를 1번째부터 7번째까지 자릅니다. [1, 2, 3, 4, 5, 6, 7]의 세 번째 숫자는 3입니다.  "
   ]
  },
  {
   "cell_type": "code",
   "execution_count": 16,
   "metadata": {},
   "outputs": [
    {
     "data": {
      "text/plain": [
       "[5, 6, 3]"
      ]
     },
     "execution_count": 16,
     "metadata": {},
     "output_type": "execute_result"
    }
   ],
   "source": [
    "array = [1, 5, 2, 6, 3, 7, 4]\n",
    "commands = [[2, 5, 3], [4, 4, 1], [1, 7, 3]]\n",
    "\n",
    "def solution(array, commands):\n",
    "    answer=[]\n",
    "    for i, j ,k in commands:\n",
    "        answer.append(sorted(array[i-1:j])[k-1]) # i~j번째 원소 추출 후 정렬, k번째 숫자 뽑아 결과 저장\n",
    "    return answer\n",
    "solution(array, commands)"
   ]
  },
  {
   "cell_type": "markdown",
   "metadata": {},
   "source": [
    "### 2. 가장 큰 수 - Lv2\n",
    "0 또는 양의 정수가 주어졌을 때, 정수를 이어 붙여 만들 수 있는 가장 큰 수를 알아내 주세요.  \n",
    "  \n",
    "예를 들어, 주어진 정수가 [6, 10, 2]라면 [6102, 6210, 1062, 1026, 2610, 2106]를 만들 수 있고, 이중 가장 큰 수는 6210입니다.  \n",
    "  \n",
    "0 또는 양의 정수가 담긴 배열 numbers가 매개변수로 주어질 때, 순서를 재배치하여 만들 수 있는 가장 큰 수를 문자열로 바꾸어 return 하도록 solution 함수를 작성해주세요.  \n",
    "\n",
    "<제한 사항>  \n",
    "numbers의 길이는 1 이상 100,000 이하입니다.  \n",
    "numbers의 원소는 0 이상 1,000 이하입니다.  \n",
    "정답이 너무 클 수 있으니 문자열로 바꾸어 return 합니다.   \n",
    "  \n",
    "<입력 예시>  \n",
    "[6, 10, 2]  : numbers  \n",
    "    \n",
    "<출력 예시>  \n",
    "\"6210\"  \n",
    "  \n",
    "<입력 예시>  \n",
    "[3, 30, 34, 5, 9]  : numbers  \n",
    "    \n",
    "<출력 예시>  \n",
    "\"9534330\""
   ]
  },
  {
   "cell_type": "code",
   "execution_count": 32,
   "metadata": {},
   "outputs": [
    {
     "data": {
      "text/plain": [
       "'6210'"
      ]
     },
     "execution_count": 32,
     "metadata": {},
     "output_type": "execute_result"
    }
   ],
   "source": [
    "numbers = [6, 10, 2]\n",
    "\n",
    "def solution(numbers):\n",
    "    answer = ''\n",
    "    num_to_char = list(map(str, numbers))\n",
    "    num_to_char.sort(key = lambda x : x*3, reverse=True) # 원소 최대길이 3이므로 1,2자리 숫자를 늘려 비교\n",
    "    # ex. 3 / 31 / 310\n",
    "    # 333 / 313131 / 310310310\n",
    "    # 문자열로 변경해 비교하므로 333이 가장 큰 수\n",
    "    \n",
    "    answer = answer.join(num_to_char)\n",
    "    return str(int(answer)) # 모든 값이 0일 때(ex. '000') int로 변환한 뒤, 다시 str로 변환 \n",
    "\n",
    "solution(numbers)\n"
   ]
  },
  {
   "cell_type": "markdown",
   "metadata": {},
   "source": [
    "### 3. H-Index - Lv2\n",
    "H-Index는 과학자의 생산성과 영향력을 나타내는 지표입니다. 어느 과학자의 H-Index를 나타내는 값인 h를 구하려고 합니다. 위키백과에 따르면, H-Index는 다음과 같이 구합니다.   \n",
    "어떤 과학자가 발표한 논문 n편 중, h번 이상 인용된 논문이 h편 이상이고 나머지 논문이 h번 이하 인용되었다면 h의 최댓값이 이 과학자의 H-Index입니다.  \n",
    "  \n",
    "어떤 과학자가 발표한 논문의 인용 횟수를 담은 배열 citations가 매개변수로 주어질 때, 이 과학자의 H-Index를 return 하도록 solution 함수를 작성해주세요.  \n",
    "  \n",
    "<제한 사항>  \n",
    "과학자가 발표한 논문의 수는 1편 이상 1,000편 이하입니다.  \n",
    "논문별 인용 횟수는 0회 이상 10,000회 이하입니다.  \n",
    "  \n",
    "<입력 예시>  \n",
    "[3, 0, 6, 1, 5]  : citations  \n",
    "    \n",
    "<출력 예시>  \n",
    "3  \n",
    "  \n",
    "<입출력 예 설명>  \n",
    "이 과학자가 발표한 논문의 수는 5편이고, 그중 3편의 논문은 3회 이상 인용되었습니다.  \n",
    "그리고 나머지 2편의 논문은 3회 이하 인용되었기 때문에 이 과학자의 H-Index는 3입니다."
   ]
  },
  {
   "cell_type": "code",
   "execution_count": 65,
   "metadata": {},
   "outputs": [
    {
     "data": {
      "text/plain": [
       "3"
      ]
     },
     "execution_count": 65,
     "metadata": {},
     "output_type": "execute_result"
    }
   ],
   "source": [
    "citations = [3,0,6,1,5]\n",
    "#citations = [8,10,10,15,17,22,24,28,32,42,47]\n",
    "#citations = [1000, 1000, 1000]\n",
    "def solution(citations):\n",
    "    sort_lst = sorted(citations, reverse = True) # 오름차순 정렬\n",
    "    \n",
    "    for i, val in enumerate(sort_lst) : # 인덱스가 해당 인덱스의 논문인용수보다 크거나 같으면 그 값이 H-Index가 됨\n",
    "        if i >= val :\n",
    "            answer = i\n",
    "            return answer\n",
    "    answer = i + 1 # 그렇지 않다면 논문 개수 = H-Index\n",
    "    return answer\n",
    "\n",
    "solution(citations)"
   ]
  },
  {
   "cell_type": "code",
   "execution_count": null,
   "metadata": {},
   "outputs": [],
   "source": []
  }
 ],
 "metadata": {
  "kernelspec": {
   "display_name": "Python 3",
   "language": "python",
   "name": "python3"
  },
  "language_info": {
   "codemirror_mode": {
    "name": "ipython",
    "version": 3
   },
   "file_extension": ".py",
   "mimetype": "text/x-python",
   "name": "python",
   "nbconvert_exporter": "python",
   "pygments_lexer": "ipython3",
   "version": "3.7.3"
  }
 },
 "nbformat": 4,
 "nbformat_minor": 2
}
