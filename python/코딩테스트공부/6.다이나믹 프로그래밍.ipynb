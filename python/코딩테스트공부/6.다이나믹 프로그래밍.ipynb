{
 "cells": [
  {
   "cell_type": "code",
   "execution_count": 1,
   "metadata": {},
   "outputs": [],
   "source": [
    "# 참고\n",
    "# 나동빈, 『이것이 코딩 테스트다 with 파이썬』, 한빛미디어-2021.07.12, 208-228"
   ]
  },
  {
   "cell_type": "markdown",
   "metadata": {},
   "source": [
    "# 6.다이나믹 프로그래밍\n",
    "큰 문제를 작게 나누고 같은 문제라면 한 번씩만 풀어 문제를 효율적으로 해결하는 알고리즘  \n",
    "메모리 활용을 늘려 시간 효율성 확보\n"
   ]
  },
  {
   "cell_type": "markdown",
   "metadata": {},
   "source": [
    "## 실전문제1. 개미전사\n",
    "개미 전ㄱ사는 부족한 식량을 중단하고자 메뚜기 마을의 식량창고를 몰래 공격하려고 한다. 메뚜기 마을에는 여러 개의 식량창고가 있는데 식량창고는 일직선으로 이어져 있다. 각 식량창고에는 정해진 수의 ㅅㄱ량을 저장하고 있으며 개미 전사는 식량창고를 선택적으로 약탈하여 식량을 빼앗을 예정이다. 이 때 메뚜기 정찰병들은 일직선상에 존재하는 식량창고 중에서 서로 인접한 식량창고가 공격받으면 바로 알아챌 수 있다. 따라서 개미 전사가 정찰병에게 들키지 않고 식량창고를 약탈하기 위해서는 최소한 한 칸 이상 떨어진 식량창고를 약탈해야한다. 예를 들어 식량창고 4개가 다음과 같다고 하자.  \n",
    "[1,3,1,5]  \n",
    "이 때 개미 전사는 두 번째와 네 번째 식량창고를 선택했을 때 최대값인 8을 뺏을 수 있다. 개미 전사는 식량창고가 이렇게 일직선상일 때 최대한 많은 식량을 얻기를 원한다. 개미 전사를 위한 식량창고 N개에 대한 정보가 주어졌을 때 얻을 수 있는 식량의 최대값을 구하라.  \n",
    "\n",
    "\n",
    "<입력 예시>  \n",
    "4  \n",
    "1 3 1 5  \n",
    "<출력 예시>  \n",
    "8"
   ]
  },
  {
   "cell_type": "code",
   "execution_count": 1,
   "metadata": {},
   "outputs": [
    {
     "name": "stdout",
     "output_type": "stream",
     "text": [
      "4\n",
      "1 3 1 5\n",
      "8\n"
     ]
    }
   ],
   "source": [
    "n = int(input())\n",
    "\n",
    "array = list(map(int, input().split()))\n",
    "\n",
    "# 앞서 계산된 결과를 저장하기 위한 DP 테이블 초기화\n",
    "d = [0] * 100\n",
    "\n",
    "#다이나믹 프로그래밍(보텀업)\n",
    "d[0] = array[0]\n",
    "d[1] = max(array[0], array[1])\n",
    "\n",
    "for i in range(2, n) :\n",
    "    d[i] = max(d[i-1], d[i-2] + array[i])\n",
    "print(d[n-1])"
   ]
  },
  {
   "cell_type": "markdown",
   "metadata": {},
   "source": [
    "## 실전문제2. 바닥공사\n",
    "가로 길이가 N, 세로 길이가 2인 직사각형 형태의 얇은 바닥이 있다. 태일이는 이 얅은 바닥을 1 x 2의 덮개, 2 x 1의 덮개, 2 x 2의 덮개를 이용해 채우고자 한다.  \n",
    "이 때 바닥을 채우는 모든 경우의 수를 구하는 프로그램을 작성하시오. 예를 들어 2 x 3 크기의 바닥을 채우는 경우의 수는 5가지이다.  \n",
    "  \n",
    "<입력 예시>  \n",
    "3  \n",
    "<출력 예시>  \n",
    "5(방법의 수를 796796으로 나눈 나머지)"
   ]
  },
  {
   "cell_type": "code",
   "execution_count": 10,
   "metadata": {},
   "outputs": [
    {
     "name": "stdout",
     "output_type": "stream",
     "text": [
      "3\n",
      "5\n"
     ]
    }
   ],
   "source": [
    "n = int(input())\n",
    "\n",
    "# 계산 결과 저장 위한 DP 테이블 초기화\n",
    "d = [0] * 1001\n",
    "\n",
    "# 다이나믹 프로그래밍\n",
    "d[1] = 1\n",
    "d[2] = 3\n",
    "for i in range(3, n+1) :\n",
    "    d[i] = (d[i-1] + d[i-2] * 2) % 796796\n",
    "\n",
    "print(d[n])"
   ]
  },
  {
   "cell_type": "markdown",
   "metadata": {},
   "source": [
    "## 실전문제3. 효율적인 화폐 구성\n",
    "N가지 종류 화폐가 있다. 이 화폐들의 개수를 최소한으로 이용해서 그 가치의 합이 M원이 되도력 한다. 이 때 각 화폐는 몇 개라도 사용할 수 있으며 사용한 화폐의 구성은 같지만 순서만 다른 것은 같은 경우로 구분한다.  \n",
    "예를 들어 2원, 3원 단위 화폐가 있을 때 15원을 만들기 위해 3원 5개를 사용하는 것이 가장 최소한의 화폐 개수다.  \n",
    "  \n",
    "<입력 조건>  \n",
    "1<=N<=100, 1<=M<=10000  \n",
    "<출력 조건>  \n",
    "첫째 줄에 M원 만들기 위한 최소 화폐 개수, 불가능하면 -1\n",
    "  \n",
    "<입력 예시>  \n",
    "2 15  \n",
    "2  \n",
    "3  \n",
    "<출력 예시>  \n",
    "5\n",
    "  \n",
    "<입력 예시>  \n",
    "3 4  \n",
    "3  \n",
    "5  \n",
    "7  \n",
    "<출력 예시>  \n",
    "-1"
   ]
  },
  {
   "cell_type": "code",
   "execution_count": 12,
   "metadata": {},
   "outputs": [
    {
     "name": "stdout",
     "output_type": "stream",
     "text": [
      "3 4\n",
      "3\n",
      "5\n",
      "7\n",
      "-1\n"
     ]
    }
   ],
   "source": [
    "# 정수 입력\n",
    "n, m = map(int, input().split())\n",
    "\n",
    "# 화폐정보 입력\n",
    "array = []\n",
    "for i in range(n) :\n",
    "    array.append(int(input()))\n",
    "\n",
    "# DP 테이블 초기화\n",
    "d = [10001] * (m+1) # 만드는 화폐 최대값이 10000이므로 1원짜리 동전써도 최대 10000개, 즉 10001개는 불가능을 의미\n",
    "\n",
    "# 다이나믹 프로그래밍(보텀멉)\n",
    "d[0] = 0\n",
    "for i in range(n) : \n",
    "    for j in range(array[i], m+1) :\n",
    "        if d[j-array[i]] != 100001 : # i-k원을 만드는 방법이 존재하는 경우\n",
    "            d[j] = min(d[j], d[j-array[i]] + 1)\n",
    "if d[m] == 10001 :\n",
    "    print(-1)\n",
    "else :\n",
    "    print(d[m])"
   ]
  },
  {
   "cell_type": "markdown",
   "metadata": {},
   "source": [
    "## 백준 연습문제\n",
    "3개  \n",
    "https://www.acmicpc.net/problemset?sort=ac_desc&algo=25  "
   ]
  },
  {
   "cell_type": "markdown",
   "metadata": {},
   "source": [
    "### 14501. 퇴사\n",
    "https://www.acmicpc.net/problem/14501  \n",
    "상담원으로 일하고 있는 백준이는 퇴사를 하려고 한다.\n",
    "\n",
    "오늘부터 N+1일째 되는 날 퇴사를 하기 위해서, 남은 N일 동안 최대한 많은 상담을 하려고 한다.\n",
    "\n",
    "백준이는 비서에게 최대한 많은 상담을 잡으라고 부탁을 했고, 비서는 하루에 하나씩 서로 다른 사람의 상담을 잡아놓았다.\n",
    "\n",
    "각각의 상담은 상담을 완료하는데 걸리는 기간 Ti와 상담을 했을 때 받을 수 있는 금액 Pi로 이루어져 있다.\n",
    "\n",
    "N = 7인 경우에 다음과 같은 상담 일정표를 보자.\n",
    "![baekjoon_dp_14501](./baekjoon_dp_14501.png)\n",
    "\n",
    "1일에 잡혀있는 상담은 총 3일이 걸리며, 상담했을 때 받을 수 있는 금액은 10이다. 5일에 잡혀있는 상담은 총 2일이 걸리며, 받을 수 있는 금액은 15이다.\n",
    "\n",
    "상담을 하는데 필요한 기간은 1일보다 클 수 있기 때문에, 모든 상담을 할 수는 없다. 예를 들어서 1일에 상담을 하게 되면, 2일, 3일에 있는 상담은 할 수 없게 된다. 2일에 있는 상담을 하게 되면, 3, 4, 5, 6일에 잡혀있는 상담은 할 수 없다.\n",
    "\n",
    "또한, N+1일째에는 회사에 없기 때문에, 6, 7일에 있는 상담을 할 수 없다.\n",
    "\n",
    "퇴사 전에 할 수 있는 상담의 최대 이익은 1일, 4일, 5일에 있는 상담을 하는 것이며, 이때의 이익은 10+20+15=45이다.\n",
    "\n",
    "상담을 적절히 했을 때, 백준이가 얻을 수 있는 최대 수익을 구하는 프로그램을 작성하시오.\n",
    "\n",
    "  \n",
    "<입력 조건>  \n",
    "첫째 줄에 N (1 ≤ N ≤ 15)이 주어진다.\n",
    "\n",
    "둘째 줄부터 N개의 줄에 Ti와 Pi가 공백으로 구분되어서 주어지며, 1일부터 N일까지 순서대로 주어진다. (1 ≤ Ti ≤ 5, 1 ≤ Pi ≤ 1,000)  \n",
    "<출력 조건>  \n",
    "첫째 줄에 백준이가 얻을 수 있는 최대 이익을 출력한다.  \n",
    "  \n",
    "<입력 예시>  \n",
    "7  \n",
    "3 10  \n",
    "5 20  \n",
    "1 10  \n",
    "1 20  \n",
    "2 15  \n",
    "4 40  \n",
    "2 200    \n",
    "<출력 예시>  \n",
    "45"
   ]
  },
  {
   "cell_type": "code",
   "execution_count": 16,
   "metadata": {},
   "outputs": [
    {
     "name": "stdout",
     "output_type": "stream",
     "text": [
      "7\n",
      "3 10\n",
      "5 20\n",
      "1 10\n",
      "1 20\n",
      "2 15\n",
      "4 40\n",
      "2 200\n",
      "45\n"
     ]
    }
   ],
   "source": [
    "n = int(input())\n",
    "\n",
    "lst=[[0,0]]\n",
    "for i in range(n) : \n",
    "    lst.append(list(map(int, input().split())))\n",
    "\n",
    "\n",
    "# dp초기화\n",
    "d = [0] * (n+6) # 상담일자가 최대 5이므로 퇴사일 + 5까지는 값이 나옴 인덱스 에러 막기 위해\n",
    "\n",
    "# 다이나믹 프로그래밍\n",
    "for i in range(1, n+1) :\n",
    "    x = lst[i][0] - 1 # 상담기간\n",
    "    d[i] = max(d[i-1], d[i])\n",
    "    d[i+x] = max(d[i-1]+lst[i][1], d[i+x])\n",
    "\n",
    "print(d[n])"
   ]
  },
  {
   "cell_type": "markdown",
   "metadata": {},
   "source": [
    "### 2579. 계단 오르기\n",
    "계단 오르기 게임은 계단 아래 시작점부터 계단 꼭대기에 위치한 도착점까지 가는 게임이다. <그림 1>과 같이 각각의 계단에는 일정한 점수가 쓰여 있는데 계단을 밟으면 그 계단에 쓰여 있는 점수를 얻게 된다.\n",
    "![baekjoon_dp_2579_1](./baekjoon_dp_2579_1.png)\n",
    "예를 들어 <그림 2>와 같이 시작점에서부터 첫 번째, 두 번째, 네 번째, 여섯 번째 계단을 밟아 도착점에 도달하면 총 점수는 10 + 20 + 25 + 20 = 75점이 된다.\n",
    "![baekjoon_dp_2579_2](./baekjoon_dp_2579_2.png)\n",
    "계단 오르는 데는 다음과 같은 규칙이 있다.\n",
    "\n",
    "1. 계단은 한 번에 한 계단씩 또는 두 계단씩 오를 수 있다. 즉, 한 계단을 밟으면서 이어서 다음 계단이나, 다음 다음 계단으로 오를 수 있다.\n",
    "2. 연속된 세 개의 계단을 모두 밟아서는 안 된다. 단, 시작점은 계단에 포함되지 않는다.\n",
    "3. 마지막 도착 계단은 반드시 밟아야 한다.  \n",
    "  \n",
    "따라서 첫 번째 계단을 밟고 이어 두 번째 계단이나, 세 번째 계단으로 오를 수 있다. 하지만, 첫 번째 계단을 밟고 이어 네 번째 계단으로 올라가거나, 첫 번째, 두 번째, 세 번째 계단을 연속해서 모두 밟을 수는 없다.\n",
    "\n",
    "각 계단에 쓰여 있는 점수가 주어질 때 이 게임에서 얻을 수 있는 총 점수의 최댓값을 구하는 프로그램을 작성하시오.\n",
    "  \n",
    "\n",
    "  \n",
    "<입력 조건>  \n",
    "입력의 첫째 줄에 계단의 개수가 주어진다.\n",
    "\n",
    "둘째 줄부터 한 줄에 하나씩 제일 아래에 놓인 계단부터 순서대로 각 계단에 쓰여 있는 점수가 주어진다. 계단의 개수는 300이하의 자연수이고, 계단에 쓰여 있는 점수는 10,000이하의 자연수이다.  \n",
    "<출력 조건>  \n",
    "첫째 줄에 계단 오르기 게임에서 얻을 수 있는 총 점수의 최댓값을 출력한다. \n",
    "  \n",
    "<입력 예시>  \n",
    "6  \n",
    "10  \n",
    "20  \n",
    "15  \n",
    "25  \n",
    "10  \n",
    "20     \n",
    "<출력 예시>  \n",
    "75"
   ]
  },
  {
   "cell_type": "code",
   "execution_count": 22,
   "metadata": {},
   "outputs": [
    {
     "name": "stdout",
     "output_type": "stream",
     "text": [
      "6\n",
      "10\n",
      "20\n",
      "15\n",
      "25\n",
      "10\n",
      "20\n",
      "75\n"
     ]
    }
   ],
   "source": [
    "n = int(input())\n",
    "array = [0] * 301\n",
    "for i in range(n) :\n",
    "    array[i] = int(input())\n",
    "d = [0] * 301\n",
    "\n",
    "d[0] = array[0]\n",
    "d[1] = array[0] + array[1]\n",
    "d[2] = max(array[1]+array[2], array[0]+array[2])\n",
    "\n",
    "for i in range(3, n+1):\n",
    "    d[i] = max(d[i - 3] + array[i - 1] + array[i], d[i - 2] + array[i])\n",
    "print(d[n-1])"
   ]
  },
  {
   "cell_type": "code",
   "execution_count": null,
   "metadata": {},
   "outputs": [],
   "source": []
  },
  {
   "cell_type": "markdown",
   "metadata": {},
   "source": [
    "## 프로그래머스_코딩테스트 연습 - 동적계획법(Dynamic Programming)\n",
    "https://school.programmers.co.kr/learn/courses/30/parts/12263"
   ]
  },
  {
   "cell_type": "markdown",
   "metadata": {},
   "source": [
    "### 1. N으로 표현 - Lv3\n",
    "아래와 같이 5와 사칙연산만으로 12를 표현할 수 있습니다.  \n",
    "  \n",
    "12 = 5 + 5 + (5 / 5) + (5 / 5)  \n",
    "12 = 55 / 5 + 5 / 5  \n",
    "12 = (55 + 5) / 5  \n",
    "  \n",
    "5를 사용한 횟수는 각각 6,5,4 입니다. 그리고 이중 가장 작은 경우는 4입니다.\n",
    "이처럼 숫자 N과 number가 주어질 때, N과 사칙연산만 사용해서 표현 할 수 있는 방법 중 N 사용횟수의 최솟값을 return 하도록 solution 함수를 작성하세요.\n",
    "  \n",
    "<제한 사항>  \n",
    "N은 1 이상 9 이하입니다.  \n",
    "number는 1 이상 32,000 이하입니다.  \n",
    "수식에는 괄호와 사칙연산만 가능하며 나누기 연산에서 나머지는 무시합니다.  \n",
    "최솟값이 8보다 크면 -1을 return 합니다.    \n",
    "  \n",
    "<입력 예시>  \n",
    "5 : N  \n",
    "12 : number  \n",
    "    \n",
    "<출력 예시>  \n",
    "4  \n",
    "  \n",
    "<입력 예시>  \n",
    "2 : N  \n",
    "11 : number  \n",
    "    \n",
    "<출력 예시>  \n",
    "3\n",
    "  \n",
    "  \n",
    "<입출력 예 설명>  \n",
    "예제 #1  \n",
    "문제에 나온 예와 같습니다.  \n",
    "  \n",
    "예제 #2  \n",
    "11 = 22 / 2와 같이 2를 3번만 사용하여 표현할 수 있습니다.  "
   ]
  },
  {
   "cell_type": "markdown",
   "metadata": {},
   "source": [
    "### 아이디어\n",
    "N = 5  \n",
    "<1회 사용>  \n",
    "5  \n",
    "  \n",
    "<2회 사용>  \n",
    "55  \n",
    "10(5 + 5) , 25 (5 * 5), 1(5 / 5), 0(5 - 5)  \n",
    "  \n",
    "<3회 사용>  \n",
    "555  \n",
    "15(10 + 5), 50(10 * 5), 2(10 / 2), 5(10 - 5)  \n",
    "30(25 + 5), 125(25 * 5), 5(25 / 5), 20(25 - 5)  \n",
    "6(1 + 5), 5(1 * 5), 0.2(1 / 5), -4(1 - 5)  \n",
    "5(0 + 5), 0(0 * 5), 0(0 / 5), -5(0 - 5)  \n",
    "  \n",
    "이렇듯 5를 이어붙이는 조합 외에는  \n",
    "n회 사용하는 경우 더해서 n이 되는 경우의 사용횟수 조합을 활용해야함  \n",
    "ex. 4회 사용하는 경우 -> 1회/3회 조합, 2회/2회 조합  "
   ]
  },
  {
   "cell_type": "code",
   "execution_count": null,
   "metadata": {},
   "outputs": [],
   "source": [
    "N = 2\n",
    "number = 11\n",
    "def solution(N, number):\n",
    "    ans_lst = [0, [N]] # n=1인 경우 가능한 경우의 수\n",
    "    \n",
    "    if N == number: #주어진 숫자와 사용해야 하는 숫자가 같은 경우 1 반환 \n",
    "        return 1\n",
    "    \n",
    "    \n",
    "    for i in range(2, 9) :\n",
    "        tmp_lst = [] # n = i 인경우 가능한 수를 입력하기 위한 임시 리스트\n",
    "        paste_num = int(str(N) * i) # 숫자를 n회 이어붙인 수 ex. 55, 555, ...\n",
    "        tmp_lst.append(paste_num)\n",
    "\n",
    "        \n",
    "        for j in range(1, i) :  # 1 + (i-1) , 2 + (i-2), ... , (i-1) + 1 모든 조합에 대해 가능한 숫자 계산 후 입력\n",
    "            for x in ans_lst[j] :\n",
    "                for y in ans_lst[i - j] :\n",
    "                    tmp_lst.append(x + y)\n",
    "                    tmp_lst.append(x * y)\n",
    "                    tmp_lst.append(x - y)\n",
    "                    if y != 0 :\n",
    "                        tmp_lst.append(x // y)\n",
    "        \n",
    "        \n",
    "        \n",
    "            if number in tmp_lst : # tmp_lst에 number 존재하면 최소로 만든거이므로 활용개수 출력\n",
    "                return i\n",
    "\n",
    "        ans_lst.append(list(set(tmp_lst))) # 다음 연산을 위한 i회 사용하여 나온 숫자 경우의 수 저장\n",
    "    \n",
    "    return -1 # 8회 사용해도 못 만들면 -1 출력\n",
    "solution(N, number)"
   ]
  },
  {
   "cell_type": "markdown",
   "metadata": {},
   "source": [
    "### 2. 정수 삼각형 - Lv3\n",
    "\n",
    "!['programmers_dynamic_programming_no2_1'](./programmers_dynamic_programming_no2_1.png)\n",
    "위와 같은 삼각형의 꼭대기에서 바닥까지 이어지는 경로 중, 거쳐간 숫자의 합이 가장 큰 경우를 찾아보려고 합니다. 아래 칸으로 이동할 때는 대각선 방향으로 한 칸 오른쪽 또는 왼쪽으로만 이동 가능합니다. 예를 들어 3에서는 그 아래칸의 8 또는 1로만 이동이 가능합니다.\n",
    "\n",
    "삼각형의 정보가 담긴 배열 triangle이 매개변수로 주어질 때, 거쳐간 숫자의 최댓값을 return 하도록 solution 함수를 완성하세요.   \n",
    "\n",
    "  \n",
    "<제한 사항>  \n",
    "삼각형의 높이는 1 이상 500 이하입니다.  \n",
    "삼각형을 이루고 있는 숫자는 0 이상 9,999 이하의 정수입니다.  \n",
    "  \n",
    "<입력 예시>  \n",
    "[[7], [3, 8], [8, 1, 0], [2, 7, 4, 4], [4, 5, 2, 6, 5]] : triangle    \n",
    "    \n",
    "<출력 예시>  \n",
    "30  "
   ]
  },
  {
   "cell_type": "code",
   "execution_count": 4,
   "metadata": {},
   "outputs": [
    {
     "data": {
      "text/plain": [
       "30"
      ]
     },
     "execution_count": 4,
     "metadata": {},
     "output_type": "execute_result"
    }
   ],
   "source": [
    "triangle = [[7], [3, 8], [8, 1, 0], [2, 7, 4, 4], [4, 5, 2, 6, 5]]\n",
    "def solution(triangle) :\n",
    "    for i in range(1, len(triangle)) : # 삼각형의 2번째 줄부터 보면서\n",
    "        for j in  range(i+1) : \n",
    "            if j == 0 : # 왼쪽 끝인 경우 그 위의 값과 더해서 갱신\n",
    "                triangle[i][j] += triangle[i-1][j]\n",
    "            elif j == i : # 오른쪽 끝인 경우 그 위의 값과 더해서 갱신\n",
    "                triangle[i][j] += triangle[i-1][j-1]\n",
    "            else : # 가운데 값인 경우 그 위 혹은 그 위 오른쪽 값과 더해 큰 값으로 갱신\n",
    "                triangle[i][j] = max(triangle[i][j] + triangle[i-1][j-1], triangle[i][j] + triangle[i-1][j])\n",
    "    return max(triangle[-1]) # 마지막 층의 삼각형 값 중 가장 큰 값 리턴\n",
    "solution(triangle)"
   ]
  },
  {
   "cell_type": "markdown",
   "metadata": {},
   "source": [
    "### 3. 등굣길 - Lv3\n",
    "계속되는 폭우로 일부 지역이 물에 잠겼습니다. 물에 잠기지 않은 지역을 통해 학교를 가려고 합니다. 집에서 학교까지 가는 길은 m x n 크기의 격자모양으로 나타낼 수 있습니다.  \n",
    "  \n",
    "아래 그림은 m = 4, n = 3 인 경우입니다.  \n",
    "!['programmers_dynamic_programming_no3_1'](./programmers_dynamic_programming_no3_1.png)\n",
    "가장 왼쪽 위, 즉 집이 있는 곳의 좌표는 (1, 1)로 나타내고 가장 오른쪽 아래, 즉 학교가 있는 곳의 좌표는 (m, n)으로 나타냅니다.\n",
    "\n",
    "격자의 크기 m, n과 물이 잠긴 지역의 좌표를 담은 2차원 배열 puddles이 매개변수로 주어집니다. 오른쪽과 아래쪽으로만 움직여 집에서 학교까지 갈 수 있는 최단경로의 개수를 1,000,000,007로 나눈 나머지를 return 하도록 solution 함수를 작성해주세요.  \n",
    "  \n",
    "  \n",
    "<제한 사항>  \n",
    "격자의 크기 m, n은 1 이상 100 이하인 자연수입니다.  \n",
    "    - m과 n이 모두 1인 경우는 입력으로 주어지지 않습니다.  \n",
    "물에 잠긴 지역은 0개 이상 10개 이하입니다.  \n",
    "집과 학교가 물에 잠긴 경우는 입력으로 주어지지 않습니다.  \n",
    "  \n",
    "<입력 예시>  \n",
    "4 : m  \n",
    "3 : n  \n",
    "[[2,2]] : puddles  \n",
    "  \n",
    "<출력 예시>  \n",
    "4  \n",
    "  \n",
    "<입출력 예설명>  \n",
    "!['programmers_dynamic_programming_no3_2'](./programmers_dynamic_programming_no3_2.png)"
   ]
  },
  {
   "cell_type": "code",
   "execution_count": 12,
   "metadata": {},
   "outputs": [
    {
     "data": {
      "text/plain": [
       "4"
      ]
     },
     "execution_count": 12,
     "metadata": {},
     "output_type": "execute_result"
    }
   ],
   "source": [
    "m = 4 \n",
    "n = 3\n",
    "puddles = [[2,2]]\n",
    "\n",
    "def solution(m, n, puddles):\n",
    "    # 아이디어\n",
    "    # 경로의 수는 위와 왼쪽칸 경로의 수의 합\n",
    "    # dp[i][j] = dp[i][j-1] + dp[i-1][j]\n",
    "\n",
    "    dp = [[0] * (n + 1) for i in range(m + 1)]  # dp 초기화 세로줄로 m개\n",
    "    dp[1][1] = 1 # 스타트 경로 1\n",
    "\n",
    "    for i in range(1, m + 1) : # 각 점의 위치를 돌며\n",
    "        for j in range(1, n + 1) :\n",
    "            if i == 1 and j == 1 : # 스타트면 넘어가기\n",
    "                continue\n",
    "                \n",
    "            dp[i][j] = (dp[i][j-1] + dp[i-1][j]) % 1000000007 # 아이디어 점화식에 따라 경로 수 계산\n",
    "\n",
    "            if [i,j] in puddles : # 만약 웅덩이라면 이동경로 0으로 갱신\n",
    "                dp[i][j] = 0\n",
    "                \n",
    "    return dp[m][n]\n",
    "solution(m, n, puddles)"
   ]
  },
  {
   "cell_type": "markdown",
   "metadata": {},
   "source": [
    "### 4. 사칙연산 - Lv4\n",
    "사칙연산에서 더하기(+)는 결합법칙이 성립하지만, 빼기(-)는 결합법칙이 성립하지 않습니다.  \n",
    "예를 들어 식 1 - 5 - 3은 연산 순서에 따라 다음과 같이 다른 결과를 가집니다.   \n",
    " \n",
    "    ((1 - 5) - 3) = -7  \n",
    "    (1 - (5 - 3)) = -1  \n",
    "위 예시와 같이 뺄셈은 연산 순서에 따라 그 결과가 바뀔 수 있습니다.  \n",
    "또 다른 예로 식 1 - 3 + 5 - 8은 연산 순서에 따라 다음과 같이 5가지 결과가 나옵니다.  \n",
    "\n",
    "    (((1 - 3) + 5) - 8) = -5  \n",
    "    ((1 - (3 + 5)) - 8) = -15  \n",
    "    (1 - ((3 + 5) - 8)) = 1  \n",
    "    (1 - (3 + (5 - 8))) = 1  \n",
    "    ((1 - 3) + (5 - 8)) = -5  \n",
    "위와 같이 서로 다른 연산 순서의 계산 결과는 [-15, -5, -5, 1, 1]이 되며, 이중 최댓값은 1입니다.  \n",
    "문자열 형태의 숫자와, 더하기 기호(\"+\"), 뺄셈 기호(\"-\")가 들어있는 배열 arr가 매개변수로 주어질 때, 서로 다른 연산순서의 계산 결과 중 최댓값을 return 하도록 solution 함수를 완성해 주세요.\n",
    "    \n",
    "<제한 사항>  \n",
    "arr는 두 연산자 \"+\", \"-\" 와 숫자가 들어있는 배열이며, 길이는 3 이상 201 이하 입니다.\n",
    "    - arr의 길이는 항상 홀수입니다.\n",
    "    - arr에 들어있는 숫자의 개수는 2개 이상 101개 이하이며, 연산자의 개수는 (숫자의 개수) -1 입니다.\n",
    "    - 숫자는 1 이상 1,000 이하의 자연수가 문자열 형태로 들어있습니다.. (ex : \"456\")\n",
    "배열의 첫 번째 원소와 마지막 원소는 반드시 숫자이며, 숫자와 연산자가 항상 번갈아가며 들어있습니다.\n",
    "  \n",
    "<입력 예시>  \n",
    "[\"1\", \"-\", \"3\", \"+\", \"5\", \"-\", \"8\"] : arr\n",
    "  \n",
    "<출력 예시>  \n",
    "1    \n",
    "  \n",
    "<입력 예시>  \n",
    "[\"5\", \"-\", \"3\", \"+\", \"1\", \"+\", \"2\", \"-\", \"4\"] : arr\n",
    "  \n",
    "<출력 예시>  \n",
    "3   "
   ]
  },
  {
   "cell_type": "code",
   "execution_count": null,
   "metadata": {},
   "outputs": [],
   "source": []
  },
  {
   "cell_type": "code",
   "execution_count": null,
   "metadata": {},
   "outputs": [],
   "source": []
  },
  {
   "cell_type": "code",
   "execution_count": null,
   "metadata": {},
   "outputs": [],
   "source": []
  },
  {
   "cell_type": "code",
   "execution_count": null,
   "metadata": {},
   "outputs": [],
   "source": []
  },
  {
   "cell_type": "code",
   "execution_count": null,
   "metadata": {},
   "outputs": [],
   "source": []
  },
  {
   "cell_type": "markdown",
   "metadata": {},
   "source": [
    "### 5. 도둑질 - Lv4\n",
    "도둑이 어느 마을을 털 계획을 하고 있습니다. 이 마을의 모든 집들은 아래 그림과 같이 동그랗게 배치되어 있습니다.  \n",
    "!['programmers_dynamic_programming_no5_1'](./programmers_dynamic_programming_no5_1.png)\n",
    "각 집들은 서로 인접한 집들과 방범장치가 연결되어 있기 때문에 인접한 두 집을 털면 경보가 울립니다.\n",
    "\n",
    "각 집에 있는 돈이 담긴 배열 money가 주어질 때, 도둑이 훔칠 수 있는 돈의 최댓값을 return 하도록 solution 함수를 작성하세요.  \n",
    "\n",
    "\n",
    "<제한 사항>  \n",
    "이 마을에 있는 집은 3개 이상 1,000,000개 이하입니다.  \n",
    "money 배열의 각 원소는 0 이상 1,000 이하인 정수입니다.  \n",
    "  \n",
    "<입력 예시>  \n",
    "[1, 2, 3, 1] : money\n",
    "  \n",
    "<출력 예시>  \n",
    "4    "
   ]
  },
  {
   "cell_type": "code",
   "execution_count": 14,
   "metadata": {},
   "outputs": [
    {
     "data": {
      "text/plain": [
       "4"
      ]
     },
     "execution_count": 14,
     "metadata": {},
     "output_type": "execute_result"
    }
   ],
   "source": [
    "money = [1, 2, 3, 1]\n",
    "\n",
    "# 점화식\n",
    "# dp[i] = max(dp[i-2] + money[i], dp[i-1])\n",
    "\n",
    "# 추가\n",
    "# 동그랗게 배열되어있으므로 첫 집을 털면 마지막 집을 털지 못 함 고려 필요\n",
    "\n",
    "def solution(money):\n",
    "    dp1 = [0] * len(money)\n",
    "    dp1[0] = money[0]\n",
    "    dp1[1] = max(money[0], money[1])\n",
    "\n",
    "    for i in range(2, len(money)-1): # 첫 집을 무조건 터는 경우\n",
    "        dp1[i] = max(dp1[i-1], money[i]+dp1[i-2])\n",
    "\n",
    "    dp2 = [0] * len(money)\n",
    "    dp2[0] = 0\n",
    "    dp2[1] = money[1] # 두 번째 집부터 털어야 마지막 집을 털 수 있음\n",
    "\n",
    "    for i in range(2, len(money)): # 마지막 집을 무조건 터는 경우\n",
    "        dp2[i] = max(dp2[i-1], money[i]+dp2[i-2])\n",
    "\n",
    "    return max(max(dp1), max(dp2)) # 두 경우 중 최대\n",
    "solution(money)"
   ]
  },
  {
   "cell_type": "code",
   "execution_count": null,
   "metadata": {},
   "outputs": [],
   "source": []
  },
  {
   "cell_type": "code",
   "execution_count": null,
   "metadata": {},
   "outputs": [],
   "source": []
  },
  {
   "cell_type": "code",
   "execution_count": null,
   "metadata": {},
   "outputs": [],
   "source": []
  }
 ],
 "metadata": {
  "kernelspec": {
   "display_name": "Python 3",
   "language": "python",
   "name": "python3"
  },
  "language_info": {
   "codemirror_mode": {
    "name": "ipython",
    "version": 3
   },
   "file_extension": ".py",
   "mimetype": "text/x-python",
   "name": "python",
   "nbconvert_exporter": "python",
   "pygments_lexer": "ipython3",
   "version": "3.7.3"
  }
 },
 "nbformat": 4,
 "nbformat_minor": 2
}
